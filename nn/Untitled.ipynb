{
 "cells": [
  {
   "cell_type": "code",
   "execution_count": 2,
   "id": "f437af1b-18fd-4b7e-ba81-f969a0b23268",
   "metadata": {},
   "outputs": [],
   "source": [
    "## Imports\n",
    "import torch\n",
    "import torchvision ## Contains some utilities for working with the image data\n",
    "from torchvision.datasets import MNIST\n",
    "import matplotlib.pyplot as plt\n",
    "#%matplotlib inline\n",
    "from torch.utils.data.dataset import Dataset\n",
    "import torchvision.transforms as transforms\n",
    "from torch.utils.data import random_split\n",
    "from torch.utils.data import DataLoader\n",
    "import torch.nn.functional as F\n",
    "import torch.nn as nn\n",
    "import os\n",
    "import numpy as np\n",
    "import pandas as pd\n",
    "\n",
    "\n"
   ]
  },
  {
   "cell_type": "code",
   "execution_count": 239,
   "id": "662e357e",
   "metadata": {},
   "outputs": [],
   "source": [
    "class CustomDatasetFromDepthImages(Dataset):\n",
    "    def __init__(self, csv_path, img_path):\n",
    "        \"\"\"\n",
    "        Args:\n",
    "            csv_path (string): path to csv file\n",
    "            img_path (string): path to the folder where images are\n",
    "            transform: pytorch transforms for transforms and tensor conversion\n",
    "        \"\"\"\n",
    "        # Transforms\n",
    "        self.to_tensor = transforms.ToTensor()\n",
    "        # Read the csv file\n",
    "        self.data_info = pd.read_csv(csv_path, header=None)\n",
    "        # First column contains the image paths\n",
    "        self.image_arr = np.asarray(self.data_info.iloc[1:, 0])\n",
    "        # Second column is the labels\n",
    "        self.label_arr = np.asarray(self.data_info.iloc[1:, 1])\n",
    "        # Calculate len\n",
    "        self.data_len = len(self.data_info.index) - 2 \n",
    "\n",
    "        self.img_path = img_path\n",
    "\n",
    "    def __getitem__(self, index):\n",
    "        # Get image name from the pandas df\n",
    "        single_image_name = self.img_path + '/' + self.image_arr[index]\n",
    "        # Open image\n",
    "        img_as_img = np.load(single_image_name)\n",
    "        goal_np = img_as_img[:2]\n",
    "        goal_np /= 1000.0\n",
    "        img_as_img = img_as_img[2:]\n",
    "        img_as_img /= 10000.0\n",
    "        # Transform image to tensor\n",
    "        img_as_tensor = torch.from_numpy(img_as_img.astype('float32'))\n",
    "        img_as_tensor = torch.unsqueeze(img_as_tensor, 0)\n",
    "        img_as_tensor = torch.cat(tuple([img_as_tensor for item in range(len(img_as_img))]), 0)\n",
    "        img_as_tensor = torch.unsqueeze(img_as_tensor, 0)\n",
    "        \n",
    "        \n",
    "        goal_as_tensor = torch.from_numpy(goal_np.astype('float32'))\n",
    "        goal_as_tensor = torch.unsqueeze(goal_as_tensor, 1)\n",
    "        goal_as_tensor = torch.unsqueeze(goal_as_tensor, 1)\n",
    "\n",
    "\n",
    "        # Get label(class) of the image based on the cropped pandas column\n",
    "        single_image_label = self.label_arr[index]\n",
    "\n",
    "        return (img_as_tensor, goal_as_tensor, int(single_image_label))\n",
    "\n",
    "    def __len__(self):\n",
    "        return self.data_len\n",
    "    "
   ]
  },
  {
   "cell_type": "code",
   "execution_count": 240,
   "id": "ebb6d649",
   "metadata": {},
   "outputs": [
    {
     "data": {
      "text/html": [
       "<div>\n",
       "<style scoped>\n",
       "    .dataframe tbody tr th:only-of-type {\n",
       "        vertical-align: middle;\n",
       "    }\n",
       "\n",
       "    .dataframe tbody tr th {\n",
       "        vertical-align: top;\n",
       "    }\n",
       "\n",
       "    .dataframe thead th {\n",
       "        text-align: right;\n",
       "    }\n",
       "</style>\n",
       "<table border=\"1\" class=\"dataframe\">\n",
       "  <thead>\n",
       "    <tr style=\"text-align: right;\">\n",
       "      <th></th>\n",
       "      <th>0</th>\n",
       "      <th>1</th>\n",
       "    </tr>\n",
       "  </thead>\n",
       "  <tbody>\n",
       "    <tr>\n",
       "      <th>0</th>\n",
       "      <td>File Name</td>\n",
       "      <td>Label</td>\n",
       "    </tr>\n",
       "    <tr>\n",
       "      <th>1</th>\n",
       "      <td>1.npy</td>\n",
       "      <td>2</td>\n",
       "    </tr>\n",
       "    <tr>\n",
       "      <th>2</th>\n",
       "      <td>2.npy</td>\n",
       "      <td>2</td>\n",
       "    </tr>\n",
       "    <tr>\n",
       "      <th>3</th>\n",
       "      <td>3.npy</td>\n",
       "      <td>2</td>\n",
       "    </tr>\n",
       "    <tr>\n",
       "      <th>4</th>\n",
       "      <td>4.npy</td>\n",
       "      <td>2</td>\n",
       "    </tr>\n",
       "    <tr>\n",
       "      <th>...</th>\n",
       "      <td>...</td>\n",
       "      <td>...</td>\n",
       "    </tr>\n",
       "    <tr>\n",
       "      <th>11373</th>\n",
       "      <td>11373.npy</td>\n",
       "      <td>1</td>\n",
       "    </tr>\n",
       "    <tr>\n",
       "      <th>11374</th>\n",
       "      <td>11374.npy</td>\n",
       "      <td>1</td>\n",
       "    </tr>\n",
       "    <tr>\n",
       "      <th>11375</th>\n",
       "      <td>11375.npy</td>\n",
       "      <td>1</td>\n",
       "    </tr>\n",
       "    <tr>\n",
       "      <th>11376</th>\n",
       "      <td>11376.npy</td>\n",
       "      <td>1</td>\n",
       "    </tr>\n",
       "    <tr>\n",
       "      <th>11377</th>\n",
       "      <td>11377.npy</td>\n",
       "      <td>1</td>\n",
       "    </tr>\n",
       "  </tbody>\n",
       "</table>\n",
       "<p>11378 rows × 2 columns</p>\n",
       "</div>"
      ],
      "text/plain": [
       "               0      1\n",
       "0      File Name  Label\n",
       "1          1.npy      2\n",
       "2          2.npy      2\n",
       "3          3.npy      2\n",
       "4          4.npy      2\n",
       "...          ...    ...\n",
       "11373  11373.npy      1\n",
       "11374  11374.npy      1\n",
       "11375  11375.npy      1\n",
       "11376  11376.npy      1\n",
       "11377  11377.npy      1\n",
       "\n",
       "[11378 rows x 2 columns]"
      ]
     },
     "execution_count": 240,
     "metadata": {},
     "output_type": "execute_result"
    }
   ],
   "source": [
    "DATAPATH = '/home/alex/Documents/datasets/VisualPlanerData/iter_1/out.csv'\n",
    "DATAPATHIMAGES = '/home/alex/Documents/datasets/VisualPlanerData/iter_1'\n",
    "custom_dataset =  CustomDatasetFromDepthImages(DATAPATH, DATAPATHIMAGES)\n",
    "custom_dataset.data_info"
   ]
  },
  {
   "cell_type": "code",
   "execution_count": 241,
   "id": "bbb0a6e1",
   "metadata": {},
   "outputs": [
    {
     "name": "stdout",
     "output_type": "stream",
     "text": [
      "(tensor([[[0.0139, 0.0728, 0.0633,  ..., 1.0000, 1.0000, 1.0000],\n",
      "         [0.0139, 0.0728, 0.0633,  ..., 1.0000, 1.0000, 1.0000],\n",
      "         [0.0139, 0.0728, 0.0633,  ..., 1.0000, 1.0000, 1.0000],\n",
      "         ...,\n",
      "         [0.0139, 0.0728, 0.0633,  ..., 1.0000, 1.0000, 1.0000],\n",
      "         [0.0139, 0.0728, 0.0633,  ..., 1.0000, 1.0000, 1.0000],\n",
      "         [0.0139, 0.0728, 0.0633,  ..., 1.0000, 1.0000, 1.0000]]]), tensor([[[ 0.4905]],\n",
      "\n",
      "        [[-0.0905]]]), 2)\n"
     ]
    }
   ],
   "source": [
    "print(custom_dataset[0])\n",
    "# plt.imshow(image, cmap = 'gray')\n",
    "# print('Label:', label)"
   ]
  },
  {
   "cell_type": "code",
   "execution_count": 242,
   "id": "69cc6477",
   "metadata": {},
   "outputs": [
    {
     "data": {
      "text/plain": [
       "torch.Size([1, 2, 1, 1])"
      ]
     },
     "execution_count": 242,
     "metadata": {},
     "output_type": "execute_result"
    }
   ],
   "source": [
    "t = torch.tensor([-100, 100])\n",
    "t = torch.unsqueeze(t, 1)\n",
    "t = torch.unsqueeze(t, 1)\n",
    "t = torch.unsqueeze(t, 0)\n",
    "# t[0][0][0][0]\n",
    "t.shape"
   ]
  },
  {
   "cell_type": "code",
   "execution_count": 243,
   "id": "741a78ce",
   "metadata": {},
   "outputs": [
    {
     "name": "stdout",
     "output_type": "stream",
     "text": [
      "torch.Size([1, 40, 40]) torch.Size([2, 1, 1]) 2\n",
      "torch.Size([1, 40, 40])\n",
      "torch.Size([60, 40, 40])\n"
     ]
    }
   ],
   "source": [
    "\n",
    "image_tensor, goal_tensor, label = custom_dataset[0]\n",
    "print(image_tensor.shape, goal_tensor.shape, label)\n",
    "print(image_tensor.shape)\n",
    "m = nn.Conv2d(1, 60, 3, stride=1, padding=1)\n",
    "# input = torch.randn(20, 16, 50)\n",
    "output = m(image_tensor)\n",
    "\n",
    "print(output.shape)"
   ]
  },
  {
   "cell_type": "code",
   "execution_count": 244,
   "id": "fa8ca06f",
   "metadata": {},
   "outputs": [
    {
     "name": "stdout",
     "output_type": "stream",
     "text": [
      "tensor([[[0.0139, 0.0728, 0.0633,  ..., 1.0000, 1.0000, 1.0000],\n",
      "         [0.0139, 0.0728, 0.0633,  ..., 1.0000, 1.0000, 1.0000],\n",
      "         [0.0139, 0.0728, 0.0633,  ..., 1.0000, 1.0000, 1.0000],\n",
      "         ...,\n",
      "         [0.0139, 0.0728, 0.0633,  ..., 1.0000, 1.0000, 1.0000],\n",
      "         [0.0139, 0.0728, 0.0633,  ..., 1.0000, 1.0000, 1.0000],\n",
      "         [0.0139, 0.0728, 0.0633,  ..., 1.0000, 1.0000, 1.0000]]])\n",
      "tensor(1.) tensor(0.0075)\n"
     ]
    }
   ],
   "source": [
    "\n",
    "print(image_tensor)\n",
    "print(torch.max(image_tensor), torch.min(image_tensor))"
   ]
  },
  {
   "cell_type": "code",
   "execution_count": 245,
   "id": "eb91f2d6",
   "metadata": {},
   "outputs": [
    {
     "name": "stdout",
     "output_type": "stream",
     "text": [
      "length of Train Datasets:  9101\n",
      "length of Validation Datasets:  2275\n"
     ]
    }
   ],
   "source": [
    "k = 0.8\n",
    "train_data_len = round(custom_dataset.data_len * k)\n",
    "validation_data_len = round(custom_dataset.data_len * (1-k))\n",
    "train_data, validation_data = random_split(custom_dataset, [train_data_len, validation_data_len])\n",
    "## Print the length of train and validation datasets\n",
    "print(\"length of Train Datasets: \", len(train_data))\n",
    "print(\"length of Validation Datasets: \", len(validation_data))"
   ]
  },
  {
   "cell_type": "code",
   "execution_count": 246,
   "id": "ae595554",
   "metadata": {},
   "outputs": [
    {
     "name": "stdout",
     "output_type": "stream",
     "text": [
      "torch.Size([16, 1, 40, 40])\n",
      "torch.Size([16, 2, 1, 1])\n"
     ]
    }
   ],
   "source": [
    "batch_size = 16\n",
    "\n",
    "train_loader = DataLoader(train_data, batch_size, shuffle = True)\n",
    "val_loader = DataLoader(validation_data, batch_size, shuffle = False)\n",
    "\n",
    "for img, goal, label in train_loader:\n",
    "    print(img.shape)\n",
    "    print(goal.shape)\n",
    "    break"
   ]
  },
  {
   "cell_type": "code",
   "execution_count": 247,
   "id": "82dd8779",
   "metadata": {},
   "outputs": [],
   "source": [
    "def accuracy(outputs, labels):\n",
    "    _, preds = torch.max(outputs, dim = 1)\n",
    "    return(torch.tensor(torch.sum(preds == labels).item()/ len(preds)))"
   ]
  },
  {
   "cell_type": "code",
   "execution_count": 248,
   "id": "3a56e60d",
   "metadata": {},
   "outputs": [
    {
     "data": {
      "text/plain": [
       "MnistModel(\n",
       "  (loss_fn): CrossEntropyLoss()\n",
       "  (conv0): Conv2d(1, 10, kernel_size=(3, 3), stride=(1, 1), padding=(1, 1))\n",
       "  (conv1): Conv2d(10, 20, kernel_size=(3, 3), stride=(1, 1), padding=(1, 1))\n",
       "  (conv2): Conv2d(20, 40, kernel_size=(3, 3), stride=(1, 1), padding=(1, 1))\n",
       "  (flat): Flatten(start_dim=1, end_dim=-1)\n",
       "  (linear1): Linear(in_features=42, out_features=40, bias=True)\n",
       "  (linear2): Linear(in_features=40, out_features=30, bias=True)\n",
       "  (linear3): Linear(in_features=30, out_features=20, bias=True)\n",
       "  (linear4): Linear(in_features=20, out_features=10, bias=True)\n",
       "  (linear5): Linear(in_features=10, out_features=6, bias=True)\n",
       "  (act): LeakyReLU(negative_slope=0.2)\n",
       "  (maxpool): MaxPool2d(kernel_size=2, stride=2, padding=0, dilation=1, ceil_mode=False)\n",
       "  (adaptivepool): AdaptiveAvgPool2d(output_size=(1, 1))\n",
       ")"
      ]
     },
     "execution_count": 248,
     "metadata": {},
     "output_type": "execute_result"
    }
   ],
   "source": [
    "input_size = 42*42\n",
    "num_classes = 6\n",
    "\n",
    "class MnistModel(nn.Module):\n",
    "    def __init__(self):\n",
    "        super().__init__()\n",
    "        self.loss_fn = nn.CrossEntropyLoss()\n",
    "\n",
    "        self.conv0 = nn.Conv2d(1, 10, 3, stride=1, padding=1)\n",
    "        self.conv1 = nn.Conv2d(10, 20, 3, stride=1, padding=1)\n",
    "        self.conv2 = nn.Conv2d(20, 40, 3, stride=1, padding=1)\n",
    "\n",
    "        self.flat = nn.Flatten()\n",
    "        self.linear1 = nn.Linear(42, 40)\n",
    "        self.linear2 = nn.Linear(40, 30)\n",
    "        self.linear3 = nn.Linear(30, 20)\n",
    "        self.linear4 = nn.Linear(20, 10)\n",
    "        self.linear5 = nn.Linear(10, num_classes)\n",
    "\n",
    "        self.act = nn.LeakyReLU(0.2)\n",
    "        self.maxpool = nn.MaxPool2d(2,2)\n",
    "        self.adaptivepool = nn.AdaptiveAvgPool2d((1,1))\n",
    "    \n",
    "    def forward(self, x, g):\n",
    "        # print(xb.shape)\n",
    "        out = self.conv0(x)\n",
    "        out = self.act(out)\n",
    "        # print(out.shape)\n",
    "        out = self.conv1(out)\n",
    "        out = self.act(out)\n",
    "        # print(out.shape)\n",
    "        out = self.conv2(out)\n",
    "        out = self.act(out)\n",
    "        # print(out.shape)\n",
    "\n",
    "        out = self.adaptivepool(out)\n",
    "        # print(out.shape)\n",
    "        out = torch.cat((out, g), 1)\n",
    "        # print(out.shape)\n",
    "\n",
    "        out = self.flat(out)\n",
    "        out = self.linear1(out)\n",
    "        out = self.act(out)\n",
    "        out = self.linear2(out)\n",
    "        out = self.act(out)\n",
    "        out = self.linear3(out)\n",
    "        out = self.act(out)\n",
    "        out = self.linear4(out)\n",
    "        out = self.act(out)\n",
    "        out = self.linear5(out)\n",
    "        return(out)\n",
    "    \n",
    "    def training_step(self, batch):\n",
    "        images, goals, labels = batch\n",
    "        out = self(images, goals) ## Generate predictions\n",
    "        loss = self.loss_fn(out, labels) ## Calculate the loss\n",
    "        return(loss)\n",
    "    \n",
    "    def validation_step(self, batch):\n",
    "        images, goals, labels = batch\n",
    "        out = self(images, goals)\n",
    "        # labels = F.one_hot(labels, num_classes)\n",
    "        # out = torch.argmax(out, dim=1) \n",
    "        # out = torch.argmax(out, dim=1) \n",
    "        # print(out.shape, labels.shape)\n",
    "        loss = F.cross_entropy(out, labels)\n",
    "        acc = accuracy(out, labels)\n",
    "        return({'val_loss':loss, 'val_acc': acc})\n",
    "    \n",
    "    def validation_epoch_end(self, outputs):\n",
    "        batch_losses = [x['val_loss'] for x in outputs]\n",
    "        epoch_loss = torch.stack(batch_losses).mean()\n",
    "        batch_accs = [x['val_acc'] for x in outputs]\n",
    "        epoch_acc = torch.stack(batch_accs).mean()\n",
    "        return({'val_loss': epoch_loss.item(), 'val_acc' : epoch_acc.item()})\n",
    "    \n",
    "    def epoch_end(self, epoch,result):\n",
    "        print(\"Epoch [{}], val_loss: {:.4f}, val_acc: {:.4f}\".format(epoch, result['val_loss'], result['val_acc']))\n",
    "        \n",
    "    \n",
    "model = MnistModel()\n",
    "model\n"
   ]
  },
  {
   "cell_type": "code",
   "execution_count": 249,
   "id": "62ac7ab3",
   "metadata": {},
   "outputs": [
    {
     "name": "stdout",
     "output_type": "stream",
     "text": [
      "tensor([[[0.1011]],\n",
      "\n",
      "        [[0.2129]]])\n"
     ]
    },
    {
     "data": {
      "text/plain": [
       "torch.Size([1, 6])"
      ]
     },
     "execution_count": 249,
     "metadata": {},
     "output_type": "execute_result"
    }
   ],
   "source": [
    "\n",
    "image_tensor = custom_dataset[100][0]\n",
    "goal_tensor = custom_dataset[1000][1]\n",
    "print(goal_tensor)\n",
    "image_tensor = torch.unsqueeze(image_tensor, 0)\n",
    "goal_tensor = torch.unsqueeze(goal_tensor, 0)\n",
    "model.forward(image_tensor, goal_tensor).shape\n"
   ]
  },
  {
   "cell_type": "code",
   "execution_count": 250,
   "id": "017dbb8e",
   "metadata": {},
   "outputs": [],
   "source": [
    "def evaluate(model, val_loader):\n",
    "    outputs = [model.validation_step(batch) for batch in val_loader]\n",
    "    return(model.validation_epoch_end(outputs))\n",
    "\n",
    "def fit(epochs, lr, model, train_loader, val_loader, opt_func = torch.optim.Adam):\n",
    "    history = []\n",
    "    optimizer = opt_func(model.parameters(), lr)\n",
    "    for epoch in range(epochs):\n",
    "        \n",
    "        ## Training Phas\n",
    "        for batch in train_loader:\n",
    "            loss = model.training_step(batch)\n",
    "            loss.backward()\n",
    "            optimizer.step()\n",
    "            optimizer.zero_grad()\n",
    "        \n",
    "        ## Validation phase\n",
    "        result = evaluate(model, val_loader)\n",
    "        model.epoch_end(epoch, result)\n",
    "        history.append(result)\n",
    "    return(history)"
   ]
  },
  {
   "cell_type": "code",
   "execution_count": 251,
   "id": "1c772649",
   "metadata": {},
   "outputs": [
    {
     "data": {
      "text/plain": [
       "{'val_loss': 1.724359393119812, 'val_acc': 0.16826923191547394}"
      ]
     },
     "execution_count": 251,
     "metadata": {},
     "output_type": "execute_result"
    }
   ],
   "source": [
    "result0 = evaluate(model, val_loader)\n",
    "result0"
   ]
  },
  {
   "cell_type": "code",
   "execution_count": 252,
   "id": "b2cdd952",
   "metadata": {},
   "outputs": [
    {
     "name": "stdout",
     "output_type": "stream",
     "text": [
      "Epoch [0], val_loss: 1.5162, val_acc: 0.3137\n",
      "Epoch [1], val_loss: 1.1182, val_acc: 0.5584\n",
      "Epoch [2], val_loss: 0.9638, val_acc: 0.6209\n",
      "Epoch [3], val_loss: 0.9402, val_acc: 0.6587\n",
      "Epoch [4], val_loss: 0.9303, val_acc: 0.6455\n",
      "Epoch [5], val_loss: 0.9031, val_acc: 0.6652\n",
      "Epoch [6], val_loss: 0.8928, val_acc: 0.6699\n",
      "Epoch [7], val_loss: 0.8815, val_acc: 0.6694\n",
      "Epoch [8], val_loss: 0.8817, val_acc: 0.6595\n",
      "Epoch [9], val_loss: 0.8501, val_acc: 0.6812\n",
      "Epoch [10], val_loss: 0.8480, val_acc: 0.6773\n",
      "Epoch [11], val_loss: 0.8299, val_acc: 0.6900\n",
      "Epoch [12], val_loss: 0.8298, val_acc: 0.6779\n",
      "Epoch [13], val_loss: 0.8220, val_acc: 0.6843\n",
      "Epoch [14], val_loss: 0.7972, val_acc: 0.6927\n",
      "Epoch [15], val_loss: 0.8280, val_acc: 0.6834\n",
      "Epoch [16], val_loss: 0.7883, val_acc: 0.7037\n",
      "Epoch [17], val_loss: 0.7696, val_acc: 0.7115\n",
      "Epoch [18], val_loss: 0.7688, val_acc: 0.7067\n",
      "Epoch [19], val_loss: 0.7539, val_acc: 0.7120\n",
      "Epoch [20], val_loss: 0.7534, val_acc: 0.7168\n",
      "Epoch [21], val_loss: 0.7695, val_acc: 0.7137\n",
      "Epoch [22], val_loss: 0.7507, val_acc: 0.7188\n",
      "Epoch [23], val_loss: 0.7411, val_acc: 0.7185\n",
      "Epoch [24], val_loss: 0.7519, val_acc: 0.7136\n",
      "Epoch [25], val_loss: 0.7223, val_acc: 0.7194\n",
      "Epoch [26], val_loss: 0.7110, val_acc: 0.7351\n",
      "Epoch [27], val_loss: 0.7352, val_acc: 0.7210\n",
      "Epoch [28], val_loss: 0.7199, val_acc: 0.7346\n",
      "Epoch [29], val_loss: 0.6998, val_acc: 0.7429\n",
      "Epoch [30], val_loss: 0.7128, val_acc: 0.7369\n",
      "Epoch [31], val_loss: 0.7252, val_acc: 0.7295\n",
      "Epoch [32], val_loss: 0.6991, val_acc: 0.7391\n",
      "Epoch [33], val_loss: 0.6901, val_acc: 0.7434\n",
      "Epoch [34], val_loss: 0.6908, val_acc: 0.7461\n",
      "Epoch [35], val_loss: 0.6836, val_acc: 0.7378\n",
      "Epoch [36], val_loss: 0.6876, val_acc: 0.7513\n",
      "Epoch [37], val_loss: 0.6731, val_acc: 0.7566\n",
      "Epoch [38], val_loss: 0.6681, val_acc: 0.7684\n",
      "Epoch [39], val_loss: 0.6778, val_acc: 0.7509\n",
      "Epoch [40], val_loss: 0.6583, val_acc: 0.7644\n",
      "Epoch [41], val_loss: 0.6963, val_acc: 0.7452\n",
      "Epoch [42], val_loss: 0.6542, val_acc: 0.7622\n",
      "Epoch [43], val_loss: 0.6678, val_acc: 0.7596\n",
      "Epoch [44], val_loss: 0.6489, val_acc: 0.7657\n",
      "Epoch [45], val_loss: 0.6784, val_acc: 0.7539\n",
      "Epoch [46], val_loss: 0.6646, val_acc: 0.7662\n",
      "Epoch [47], val_loss: 0.6688, val_acc: 0.7601\n",
      "Epoch [48], val_loss: 0.6785, val_acc: 0.7566\n",
      "Epoch [49], val_loss: 0.6409, val_acc: 0.7710\n",
      "Epoch [50], val_loss: 0.6411, val_acc: 0.7771\n",
      "Epoch [51], val_loss: 0.6500, val_acc: 0.7705\n",
      "Epoch [52], val_loss: 0.6777, val_acc: 0.7583\n",
      "Epoch [53], val_loss: 0.6871, val_acc: 0.7504\n",
      "Epoch [54], val_loss: 0.6534, val_acc: 0.7701\n",
      "Epoch [55], val_loss: 0.6551, val_acc: 0.7640\n",
      "Epoch [56], val_loss: 0.6777, val_acc: 0.7587\n",
      "Epoch [57], val_loss: 0.6317, val_acc: 0.7845\n",
      "Epoch [58], val_loss: 0.6400, val_acc: 0.7727\n",
      "Epoch [59], val_loss: 0.6293, val_acc: 0.7823\n",
      "Epoch [60], val_loss: 0.6243, val_acc: 0.7762\n",
      "Epoch [61], val_loss: 0.6385, val_acc: 0.7823\n",
      "Epoch [62], val_loss: 0.6321, val_acc: 0.7745\n",
      "Epoch [63], val_loss: 0.6334, val_acc: 0.7762\n",
      "Epoch [64], val_loss: 0.6596, val_acc: 0.7609\n",
      "Epoch [65], val_loss: 0.6303, val_acc: 0.7784\n",
      "Epoch [66], val_loss: 0.6457, val_acc: 0.7723\n",
      "Epoch [67], val_loss: 0.6364, val_acc: 0.7788\n",
      "Epoch [68], val_loss: 0.6492, val_acc: 0.7635\n",
      "Epoch [69], val_loss: 0.6475, val_acc: 0.7719\n",
      "Epoch [70], val_loss: 0.6244, val_acc: 0.7863\n",
      "Epoch [71], val_loss: 0.6258, val_acc: 0.7898\n",
      "Epoch [72], val_loss: 0.6259, val_acc: 0.7828\n",
      "Epoch [73], val_loss: 0.6142, val_acc: 0.7832\n",
      "Epoch [74], val_loss: 0.5983, val_acc: 0.8042\n",
      "Epoch [75], val_loss: 0.6191, val_acc: 0.7906\n",
      "Epoch [76], val_loss: 0.6146, val_acc: 0.7924\n",
      "Epoch [77], val_loss: 0.6240, val_acc: 0.7758\n",
      "Epoch [78], val_loss: 0.5955, val_acc: 0.7955\n",
      "Epoch [79], val_loss: 0.6175, val_acc: 0.7775\n",
      "Epoch [80], val_loss: 0.5983, val_acc: 0.7959\n",
      "Epoch [81], val_loss: 0.5944, val_acc: 0.8003\n",
      "Epoch [82], val_loss: 0.6213, val_acc: 0.7841\n",
      "Epoch [83], val_loss: 0.6272, val_acc: 0.7924\n",
      "Epoch [84], val_loss: 0.5983, val_acc: 0.7937\n",
      "Epoch [85], val_loss: 0.5841, val_acc: 0.8007\n",
      "Epoch [86], val_loss: 0.6079, val_acc: 0.8042\n",
      "Epoch [87], val_loss: 0.5901, val_acc: 0.7911\n",
      "Epoch [88], val_loss: 0.6160, val_acc: 0.7902\n",
      "Epoch [89], val_loss: 0.6163, val_acc: 0.7915\n",
      "Epoch [90], val_loss: 0.6066, val_acc: 0.7876\n",
      "Epoch [91], val_loss: 0.6111, val_acc: 0.7924\n",
      "Epoch [92], val_loss: 0.5879, val_acc: 0.8042\n",
      "Epoch [93], val_loss: 0.6104, val_acc: 0.7941\n",
      "Epoch [94], val_loss: 0.5880, val_acc: 0.8090\n",
      "Epoch [95], val_loss: 0.6005, val_acc: 0.7955\n",
      "Epoch [96], val_loss: 0.6025, val_acc: 0.7968\n",
      "Epoch [97], val_loss: 0.6243, val_acc: 0.7854\n",
      "Epoch [98], val_loss: 0.6351, val_acc: 0.7867\n",
      "Epoch [99], val_loss: 0.5989, val_acc: 0.7976\n"
     ]
    }
   ],
   "source": [
    "history1 = fit(100, 0.001, model, train_loader, val_loader)"
   ]
  },
  {
   "cell_type": "code",
   "execution_count": 253,
   "id": "0b42bfd2",
   "metadata": {},
   "outputs": [
    {
     "name": "stdout",
     "output_type": "stream",
     "text": [
      "Epoch [0], val_loss: 0.5853, val_acc: 0.8090\n",
      "Epoch [1], val_loss: 0.5776, val_acc: 0.8064\n",
      "Epoch [2], val_loss: 0.5799, val_acc: 0.8033\n",
      "Epoch [3], val_loss: 0.5815, val_acc: 0.8094\n",
      "Epoch [4], val_loss: 0.6184, val_acc: 0.7990\n",
      "Epoch [5], val_loss: 0.5817, val_acc: 0.8081\n",
      "Epoch [6], val_loss: 0.6101, val_acc: 0.8003\n",
      "Epoch [7], val_loss: 0.6215, val_acc: 0.8011\n",
      "Epoch [8], val_loss: 0.6077, val_acc: 0.8007\n",
      "Epoch [9], val_loss: 0.5790, val_acc: 0.8090\n",
      "Epoch [10], val_loss: 0.6025, val_acc: 0.8020\n",
      "Epoch [11], val_loss: 0.5934, val_acc: 0.8042\n",
      "Epoch [12], val_loss: 0.5906, val_acc: 0.8199\n",
      "Epoch [13], val_loss: 0.5816, val_acc: 0.8134\n",
      "Epoch [14], val_loss: 0.5988, val_acc: 0.8090\n",
      "Epoch [15], val_loss: 0.5952, val_acc: 0.8046\n",
      "Epoch [16], val_loss: 0.5873, val_acc: 0.8099\n",
      "Epoch [17], val_loss: 0.6097, val_acc: 0.8042\n",
      "Epoch [18], val_loss: 0.6335, val_acc: 0.7863\n",
      "Epoch [19], val_loss: 0.5839, val_acc: 0.8077\n",
      "Epoch [20], val_loss: 0.5808, val_acc: 0.8125\n",
      "Epoch [21], val_loss: 0.6158, val_acc: 0.8016\n",
      "Epoch [22], val_loss: 0.6081, val_acc: 0.8007\n",
      "Epoch [23], val_loss: 0.5746, val_acc: 0.8164\n",
      "Epoch [24], val_loss: 0.5869, val_acc: 0.8081\n",
      "Epoch [25], val_loss: 0.5982, val_acc: 0.8099\n",
      "Epoch [26], val_loss: 0.5832, val_acc: 0.8077\n",
      "Epoch [27], val_loss: 0.5947, val_acc: 0.8182\n",
      "Epoch [28], val_loss: 0.5890, val_acc: 0.8055\n",
      "Epoch [29], val_loss: 0.5844, val_acc: 0.8147\n",
      "Epoch [30], val_loss: 0.5724, val_acc: 0.8156\n",
      "Epoch [31], val_loss: 0.5778, val_acc: 0.8081\n",
      "Epoch [32], val_loss: 0.5947, val_acc: 0.8138\n",
      "Epoch [33], val_loss: 0.5809, val_acc: 0.8142\n",
      "Epoch [34], val_loss: 0.5798, val_acc: 0.8177\n",
      "Epoch [35], val_loss: 0.5914, val_acc: 0.8156\n",
      "Epoch [36], val_loss: 0.6063, val_acc: 0.8125\n",
      "Epoch [37], val_loss: 0.5824, val_acc: 0.8160\n",
      "Epoch [38], val_loss: 0.6305, val_acc: 0.8064\n",
      "Epoch [39], val_loss: 0.5884, val_acc: 0.8099\n",
      "Epoch [40], val_loss: 0.6142, val_acc: 0.8121\n",
      "Epoch [41], val_loss: 0.5933, val_acc: 0.8112\n",
      "Epoch [42], val_loss: 0.5710, val_acc: 0.8217\n",
      "Epoch [43], val_loss: 0.6073, val_acc: 0.8116\n",
      "Epoch [44], val_loss: 0.5914, val_acc: 0.8103\n",
      "Epoch [45], val_loss: 0.6010, val_acc: 0.8204\n",
      "Epoch [46], val_loss: 0.5820, val_acc: 0.8243\n",
      "Epoch [47], val_loss: 0.6232, val_acc: 0.8046\n",
      "Epoch [48], val_loss: 0.5774, val_acc: 0.8173\n",
      "Epoch [49], val_loss: 0.5809, val_acc: 0.8274\n",
      "Epoch [50], val_loss: 0.5891, val_acc: 0.8125\n",
      "Epoch [51], val_loss: 0.6049, val_acc: 0.8217\n",
      "Epoch [52], val_loss: 0.5932, val_acc: 0.8195\n",
      "Epoch [53], val_loss: 0.5981, val_acc: 0.8208\n",
      "Epoch [54], val_loss: 0.6212, val_acc: 0.8081\n",
      "Epoch [55], val_loss: 0.6031, val_acc: 0.8121\n",
      "Epoch [56], val_loss: 0.5854, val_acc: 0.8121\n",
      "Epoch [57], val_loss: 0.6645, val_acc: 0.8033\n",
      "Epoch [58], val_loss: 0.5718, val_acc: 0.8164\n",
      "Epoch [59], val_loss: 0.5910, val_acc: 0.8204\n",
      "Epoch [60], val_loss: 0.6111, val_acc: 0.8108\n",
      "Epoch [61], val_loss: 0.5801, val_acc: 0.8212\n",
      "Epoch [62], val_loss: 0.6086, val_acc: 0.8151\n",
      "Epoch [63], val_loss: 0.5959, val_acc: 0.8212\n",
      "Epoch [64], val_loss: 0.6265, val_acc: 0.8081\n",
      "Epoch [65], val_loss: 0.6146, val_acc: 0.8156\n",
      "Epoch [66], val_loss: 0.6297, val_acc: 0.8108\n",
      "Epoch [67], val_loss: 0.6544, val_acc: 0.8116\n",
      "Epoch [68], val_loss: 0.5957, val_acc: 0.8090\n",
      "Epoch [69], val_loss: 0.5856, val_acc: 0.8269\n",
      "Epoch [70], val_loss: 0.6210, val_acc: 0.8051\n",
      "Epoch [71], val_loss: 0.6320, val_acc: 0.8103\n",
      "Epoch [72], val_loss: 0.6223, val_acc: 0.8177\n",
      "Epoch [73], val_loss: 0.6586, val_acc: 0.8177\n",
      "Epoch [74], val_loss: 0.6200, val_acc: 0.8212\n",
      "Epoch [75], val_loss: 0.6514, val_acc: 0.8142\n",
      "Epoch [76], val_loss: 0.6069, val_acc: 0.8230\n",
      "Epoch [77], val_loss: 0.6101, val_acc: 0.8199\n",
      "Epoch [78], val_loss: 0.6383, val_acc: 0.8195\n",
      "Epoch [79], val_loss: 0.6291, val_acc: 0.8160\n",
      "Epoch [80], val_loss: 0.6437, val_acc: 0.8051\n",
      "Epoch [81], val_loss: 0.6295, val_acc: 0.8116\n",
      "Epoch [82], val_loss: 0.6233, val_acc: 0.8099\n",
      "Epoch [83], val_loss: 0.6639, val_acc: 0.7994\n",
      "Epoch [84], val_loss: 0.6117, val_acc: 0.8243\n",
      "Epoch [85], val_loss: 0.6244, val_acc: 0.8177\n",
      "Epoch [86], val_loss: 0.6214, val_acc: 0.8112\n",
      "Epoch [87], val_loss: 0.6539, val_acc: 0.8160\n",
      "Epoch [88], val_loss: 0.6135, val_acc: 0.8156\n",
      "Epoch [89], val_loss: 0.6456, val_acc: 0.8186\n",
      "Epoch [90], val_loss: 0.6157, val_acc: 0.8256\n",
      "Epoch [91], val_loss: 0.6814, val_acc: 0.8033\n",
      "Epoch [92], val_loss: 0.6153, val_acc: 0.8226\n",
      "Epoch [93], val_loss: 0.6492, val_acc: 0.8160\n",
      "Epoch [94], val_loss: 0.6433, val_acc: 0.8116\n",
      "Epoch [95], val_loss: 0.6186, val_acc: 0.8208\n",
      "Epoch [96], val_loss: 0.6328, val_acc: 0.8247\n",
      "Epoch [97], val_loss: 0.6056, val_acc: 0.8300\n",
      "Epoch [98], val_loss: 0.6311, val_acc: 0.8291\n",
      "Epoch [99], val_loss: 0.6187, val_acc: 0.8226\n"
     ]
    }
   ],
   "source": [
    "history2 = fit(100, 0.001, model, train_loader, val_loader)"
   ]
  },
  {
   "cell_type": "code",
   "execution_count": 254,
   "id": "b8edf808",
   "metadata": {},
   "outputs": [
    {
     "name": "stdout",
     "output_type": "stream",
     "text": [
      "Epoch [0], val_loss: 0.6992, val_acc: 0.8142\n"
     ]
    },
    {
     "ename": "KeyboardInterrupt",
     "evalue": "",
     "output_type": "error",
     "traceback": [
      "\u001b[0;31m---------------------------------------------------------------------------\u001b[0m",
      "\u001b[0;31mKeyboardInterrupt\u001b[0m                         Traceback (most recent call last)",
      "Cell \u001b[0;32mIn[254], line 1\u001b[0m\n\u001b[0;32m----> 1\u001b[0m history3 \u001b[38;5;241m=\u001b[39m \u001b[43mfit\u001b[49m\u001b[43m(\u001b[49m\u001b[38;5;241;43m100\u001b[39;49m\u001b[43m,\u001b[49m\u001b[43m \u001b[49m\u001b[38;5;241;43m0.001\u001b[39;49m\u001b[43m,\u001b[49m\u001b[43m \u001b[49m\u001b[43mmodel\u001b[49m\u001b[43m,\u001b[49m\u001b[43m \u001b[49m\u001b[43mtrain_loader\u001b[49m\u001b[43m,\u001b[49m\u001b[43m \u001b[49m\u001b[43mval_loader\u001b[49m\u001b[43m)\u001b[49m\n",
      "Cell \u001b[0;32mIn[250], line 12\u001b[0m, in \u001b[0;36mfit\u001b[0;34m(epochs, lr, model, train_loader, val_loader, opt_func)\u001b[0m\n\u001b[1;32m      8\u001b[0m \u001b[38;5;28;01mfor\u001b[39;00m epoch \u001b[38;5;129;01min\u001b[39;00m \u001b[38;5;28mrange\u001b[39m(epochs):\n\u001b[1;32m      9\u001b[0m     \n\u001b[1;32m     10\u001b[0m     \u001b[38;5;66;03m## Training Phas\u001b[39;00m\n\u001b[1;32m     11\u001b[0m     \u001b[38;5;28;01mfor\u001b[39;00m batch \u001b[38;5;129;01min\u001b[39;00m train_loader:\n\u001b[0;32m---> 12\u001b[0m         loss \u001b[38;5;241m=\u001b[39m \u001b[43mmodel\u001b[49m\u001b[38;5;241;43m.\u001b[39;49m\u001b[43mtraining_step\u001b[49m\u001b[43m(\u001b[49m\u001b[43mbatch\u001b[49m\u001b[43m)\u001b[49m\n\u001b[1;32m     13\u001b[0m         loss\u001b[38;5;241m.\u001b[39mbackward()\n\u001b[1;32m     14\u001b[0m         optimizer\u001b[38;5;241m.\u001b[39mstep()\n",
      "Cell \u001b[0;32mIn[248], line 55\u001b[0m, in \u001b[0;36mMnistModel.training_step\u001b[0;34m(self, batch)\u001b[0m\n\u001b[1;32m     53\u001b[0m \u001b[38;5;28;01mdef\u001b[39;00m \u001b[38;5;21mtraining_step\u001b[39m(\u001b[38;5;28mself\u001b[39m, batch):\n\u001b[1;32m     54\u001b[0m     images, goals, labels \u001b[38;5;241m=\u001b[39m batch\n\u001b[0;32m---> 55\u001b[0m     out \u001b[38;5;241m=\u001b[39m \u001b[38;5;28;43mself\u001b[39;49m\u001b[43m(\u001b[49m\u001b[43mimages\u001b[49m\u001b[43m,\u001b[49m\u001b[43m \u001b[49m\u001b[43mgoals\u001b[49m\u001b[43m)\u001b[49m \u001b[38;5;66;03m## Generate predictions\u001b[39;00m\n\u001b[1;32m     56\u001b[0m     loss \u001b[38;5;241m=\u001b[39m \u001b[38;5;28mself\u001b[39m\u001b[38;5;241m.\u001b[39mloss_fn(out, labels) \u001b[38;5;66;03m## Calculate the loss\u001b[39;00m\n\u001b[1;32m     57\u001b[0m     \u001b[38;5;28;01mreturn\u001b[39;00m(loss)\n",
      "File \u001b[0;32m~/.local/lib/python3.10/site-packages/torch/nn/modules/module.py:1532\u001b[0m, in \u001b[0;36mModule._wrapped_call_impl\u001b[0;34m(self, *args, **kwargs)\u001b[0m\n\u001b[1;32m   1530\u001b[0m     \u001b[38;5;28;01mreturn\u001b[39;00m \u001b[38;5;28mself\u001b[39m\u001b[38;5;241m.\u001b[39m_compiled_call_impl(\u001b[38;5;241m*\u001b[39margs, \u001b[38;5;241m*\u001b[39m\u001b[38;5;241m*\u001b[39mkwargs)  \u001b[38;5;66;03m# type: ignore[misc]\u001b[39;00m\n\u001b[1;32m   1531\u001b[0m \u001b[38;5;28;01melse\u001b[39;00m:\n\u001b[0;32m-> 1532\u001b[0m     \u001b[38;5;28;01mreturn\u001b[39;00m \u001b[38;5;28;43mself\u001b[39;49m\u001b[38;5;241;43m.\u001b[39;49m\u001b[43m_call_impl\u001b[49m\u001b[43m(\u001b[49m\u001b[38;5;241;43m*\u001b[39;49m\u001b[43margs\u001b[49m\u001b[43m,\u001b[49m\u001b[43m \u001b[49m\u001b[38;5;241;43m*\u001b[39;49m\u001b[38;5;241;43m*\u001b[39;49m\u001b[43mkwargs\u001b[49m\u001b[43m)\u001b[49m\n",
      "File \u001b[0;32m~/.local/lib/python3.10/site-packages/torch/nn/modules/module.py:1541\u001b[0m, in \u001b[0;36mModule._call_impl\u001b[0;34m(self, *args, **kwargs)\u001b[0m\n\u001b[1;32m   1536\u001b[0m \u001b[38;5;66;03m# If we don't have any hooks, we want to skip the rest of the logic in\u001b[39;00m\n\u001b[1;32m   1537\u001b[0m \u001b[38;5;66;03m# this function, and just call forward.\u001b[39;00m\n\u001b[1;32m   1538\u001b[0m \u001b[38;5;28;01mif\u001b[39;00m \u001b[38;5;129;01mnot\u001b[39;00m (\u001b[38;5;28mself\u001b[39m\u001b[38;5;241m.\u001b[39m_backward_hooks \u001b[38;5;129;01mor\u001b[39;00m \u001b[38;5;28mself\u001b[39m\u001b[38;5;241m.\u001b[39m_backward_pre_hooks \u001b[38;5;129;01mor\u001b[39;00m \u001b[38;5;28mself\u001b[39m\u001b[38;5;241m.\u001b[39m_forward_hooks \u001b[38;5;129;01mor\u001b[39;00m \u001b[38;5;28mself\u001b[39m\u001b[38;5;241m.\u001b[39m_forward_pre_hooks\n\u001b[1;32m   1539\u001b[0m         \u001b[38;5;129;01mor\u001b[39;00m _global_backward_pre_hooks \u001b[38;5;129;01mor\u001b[39;00m _global_backward_hooks\n\u001b[1;32m   1540\u001b[0m         \u001b[38;5;129;01mor\u001b[39;00m _global_forward_hooks \u001b[38;5;129;01mor\u001b[39;00m _global_forward_pre_hooks):\n\u001b[0;32m-> 1541\u001b[0m     \u001b[38;5;28;01mreturn\u001b[39;00m \u001b[43mforward_call\u001b[49m\u001b[43m(\u001b[49m\u001b[38;5;241;43m*\u001b[39;49m\u001b[43margs\u001b[49m\u001b[43m,\u001b[49m\u001b[43m \u001b[49m\u001b[38;5;241;43m*\u001b[39;49m\u001b[38;5;241;43m*\u001b[39;49m\u001b[43mkwargs\u001b[49m\u001b[43m)\u001b[49m\n\u001b[1;32m   1543\u001b[0m \u001b[38;5;28;01mtry\u001b[39;00m:\n\u001b[1;32m   1544\u001b[0m     result \u001b[38;5;241m=\u001b[39m \u001b[38;5;28;01mNone\u001b[39;00m\n",
      "Cell \u001b[0;32mIn[248], line 32\u001b[0m, in \u001b[0;36mMnistModel.forward\u001b[0;34m(self, x, g)\u001b[0m\n\u001b[1;32m     30\u001b[0m out \u001b[38;5;241m=\u001b[39m \u001b[38;5;28mself\u001b[39m\u001b[38;5;241m.\u001b[39mact(out)\n\u001b[1;32m     31\u001b[0m \u001b[38;5;66;03m# print(out.shape)\u001b[39;00m\n\u001b[0;32m---> 32\u001b[0m out \u001b[38;5;241m=\u001b[39m \u001b[38;5;28;43mself\u001b[39;49m\u001b[38;5;241;43m.\u001b[39;49m\u001b[43mconv2\u001b[49m\u001b[43m(\u001b[49m\u001b[43mout\u001b[49m\u001b[43m)\u001b[49m\n\u001b[1;32m     33\u001b[0m out \u001b[38;5;241m=\u001b[39m \u001b[38;5;28mself\u001b[39m\u001b[38;5;241m.\u001b[39mact(out)\n\u001b[1;32m     34\u001b[0m \u001b[38;5;66;03m# print(out.shape)\u001b[39;00m\n",
      "File \u001b[0;32m~/.local/lib/python3.10/site-packages/torch/nn/modules/module.py:1532\u001b[0m, in \u001b[0;36mModule._wrapped_call_impl\u001b[0;34m(self, *args, **kwargs)\u001b[0m\n\u001b[1;32m   1530\u001b[0m     \u001b[38;5;28;01mreturn\u001b[39;00m \u001b[38;5;28mself\u001b[39m\u001b[38;5;241m.\u001b[39m_compiled_call_impl(\u001b[38;5;241m*\u001b[39margs, \u001b[38;5;241m*\u001b[39m\u001b[38;5;241m*\u001b[39mkwargs)  \u001b[38;5;66;03m# type: ignore[misc]\u001b[39;00m\n\u001b[1;32m   1531\u001b[0m \u001b[38;5;28;01melse\u001b[39;00m:\n\u001b[0;32m-> 1532\u001b[0m     \u001b[38;5;28;01mreturn\u001b[39;00m \u001b[38;5;28;43mself\u001b[39;49m\u001b[38;5;241;43m.\u001b[39;49m\u001b[43m_call_impl\u001b[49m\u001b[43m(\u001b[49m\u001b[38;5;241;43m*\u001b[39;49m\u001b[43margs\u001b[49m\u001b[43m,\u001b[49m\u001b[43m \u001b[49m\u001b[38;5;241;43m*\u001b[39;49m\u001b[38;5;241;43m*\u001b[39;49m\u001b[43mkwargs\u001b[49m\u001b[43m)\u001b[49m\n",
      "File \u001b[0;32m~/.local/lib/python3.10/site-packages/torch/nn/modules/module.py:1541\u001b[0m, in \u001b[0;36mModule._call_impl\u001b[0;34m(self, *args, **kwargs)\u001b[0m\n\u001b[1;32m   1536\u001b[0m \u001b[38;5;66;03m# If we don't have any hooks, we want to skip the rest of the logic in\u001b[39;00m\n\u001b[1;32m   1537\u001b[0m \u001b[38;5;66;03m# this function, and just call forward.\u001b[39;00m\n\u001b[1;32m   1538\u001b[0m \u001b[38;5;28;01mif\u001b[39;00m \u001b[38;5;129;01mnot\u001b[39;00m (\u001b[38;5;28mself\u001b[39m\u001b[38;5;241m.\u001b[39m_backward_hooks \u001b[38;5;129;01mor\u001b[39;00m \u001b[38;5;28mself\u001b[39m\u001b[38;5;241m.\u001b[39m_backward_pre_hooks \u001b[38;5;129;01mor\u001b[39;00m \u001b[38;5;28mself\u001b[39m\u001b[38;5;241m.\u001b[39m_forward_hooks \u001b[38;5;129;01mor\u001b[39;00m \u001b[38;5;28mself\u001b[39m\u001b[38;5;241m.\u001b[39m_forward_pre_hooks\n\u001b[1;32m   1539\u001b[0m         \u001b[38;5;129;01mor\u001b[39;00m _global_backward_pre_hooks \u001b[38;5;129;01mor\u001b[39;00m _global_backward_hooks\n\u001b[1;32m   1540\u001b[0m         \u001b[38;5;129;01mor\u001b[39;00m _global_forward_hooks \u001b[38;5;129;01mor\u001b[39;00m _global_forward_pre_hooks):\n\u001b[0;32m-> 1541\u001b[0m     \u001b[38;5;28;01mreturn\u001b[39;00m \u001b[43mforward_call\u001b[49m\u001b[43m(\u001b[49m\u001b[38;5;241;43m*\u001b[39;49m\u001b[43margs\u001b[49m\u001b[43m,\u001b[49m\u001b[43m \u001b[49m\u001b[38;5;241;43m*\u001b[39;49m\u001b[38;5;241;43m*\u001b[39;49m\u001b[43mkwargs\u001b[49m\u001b[43m)\u001b[49m\n\u001b[1;32m   1543\u001b[0m \u001b[38;5;28;01mtry\u001b[39;00m:\n\u001b[1;32m   1544\u001b[0m     result \u001b[38;5;241m=\u001b[39m \u001b[38;5;28;01mNone\u001b[39;00m\n",
      "File \u001b[0;32m~/.local/lib/python3.10/site-packages/torch/nn/modules/conv.py:460\u001b[0m, in \u001b[0;36mConv2d.forward\u001b[0;34m(self, input)\u001b[0m\n\u001b[1;32m    459\u001b[0m \u001b[38;5;28;01mdef\u001b[39;00m \u001b[38;5;21mforward\u001b[39m(\u001b[38;5;28mself\u001b[39m, \u001b[38;5;28minput\u001b[39m: Tensor) \u001b[38;5;241m-\u001b[39m\u001b[38;5;241m>\u001b[39m Tensor:\n\u001b[0;32m--> 460\u001b[0m     \u001b[38;5;28;01mreturn\u001b[39;00m \u001b[38;5;28;43mself\u001b[39;49m\u001b[38;5;241;43m.\u001b[39;49m\u001b[43m_conv_forward\u001b[49m\u001b[43m(\u001b[49m\u001b[38;5;28;43minput\u001b[39;49m\u001b[43m,\u001b[49m\u001b[43m \u001b[49m\u001b[38;5;28;43mself\u001b[39;49m\u001b[38;5;241;43m.\u001b[39;49m\u001b[43mweight\u001b[49m\u001b[43m,\u001b[49m\u001b[43m \u001b[49m\u001b[38;5;28;43mself\u001b[39;49m\u001b[38;5;241;43m.\u001b[39;49m\u001b[43mbias\u001b[49m\u001b[43m)\u001b[49m\n",
      "File \u001b[0;32m~/.local/lib/python3.10/site-packages/torch/nn/modules/conv.py:456\u001b[0m, in \u001b[0;36mConv2d._conv_forward\u001b[0;34m(self, input, weight, bias)\u001b[0m\n\u001b[1;32m    452\u001b[0m \u001b[38;5;28;01mif\u001b[39;00m \u001b[38;5;28mself\u001b[39m\u001b[38;5;241m.\u001b[39mpadding_mode \u001b[38;5;241m!=\u001b[39m \u001b[38;5;124m'\u001b[39m\u001b[38;5;124mzeros\u001b[39m\u001b[38;5;124m'\u001b[39m:\n\u001b[1;32m    453\u001b[0m     \u001b[38;5;28;01mreturn\u001b[39;00m F\u001b[38;5;241m.\u001b[39mconv2d(F\u001b[38;5;241m.\u001b[39mpad(\u001b[38;5;28minput\u001b[39m, \u001b[38;5;28mself\u001b[39m\u001b[38;5;241m.\u001b[39m_reversed_padding_repeated_twice, mode\u001b[38;5;241m=\u001b[39m\u001b[38;5;28mself\u001b[39m\u001b[38;5;241m.\u001b[39mpadding_mode),\n\u001b[1;32m    454\u001b[0m                     weight, bias, \u001b[38;5;28mself\u001b[39m\u001b[38;5;241m.\u001b[39mstride,\n\u001b[1;32m    455\u001b[0m                     _pair(\u001b[38;5;241m0\u001b[39m), \u001b[38;5;28mself\u001b[39m\u001b[38;5;241m.\u001b[39mdilation, \u001b[38;5;28mself\u001b[39m\u001b[38;5;241m.\u001b[39mgroups)\n\u001b[0;32m--> 456\u001b[0m \u001b[38;5;28;01mreturn\u001b[39;00m \u001b[43mF\u001b[49m\u001b[38;5;241;43m.\u001b[39;49m\u001b[43mconv2d\u001b[49m\u001b[43m(\u001b[49m\u001b[38;5;28;43minput\u001b[39;49m\u001b[43m,\u001b[49m\u001b[43m \u001b[49m\u001b[43mweight\u001b[49m\u001b[43m,\u001b[49m\u001b[43m \u001b[49m\u001b[43mbias\u001b[49m\u001b[43m,\u001b[49m\u001b[43m \u001b[49m\u001b[38;5;28;43mself\u001b[39;49m\u001b[38;5;241;43m.\u001b[39;49m\u001b[43mstride\u001b[49m\u001b[43m,\u001b[49m\n\u001b[1;32m    457\u001b[0m \u001b[43m                \u001b[49m\u001b[38;5;28;43mself\u001b[39;49m\u001b[38;5;241;43m.\u001b[39;49m\u001b[43mpadding\u001b[49m\u001b[43m,\u001b[49m\u001b[43m \u001b[49m\u001b[38;5;28;43mself\u001b[39;49m\u001b[38;5;241;43m.\u001b[39;49m\u001b[43mdilation\u001b[49m\u001b[43m,\u001b[49m\u001b[43m \u001b[49m\u001b[38;5;28;43mself\u001b[39;49m\u001b[38;5;241;43m.\u001b[39;49m\u001b[43mgroups\u001b[49m\u001b[43m)\u001b[49m\n",
      "\u001b[0;31mKeyboardInterrupt\u001b[0m: "
     ]
    }
   ],
   "source": [
    "history3 = fit(100, 0.001, model, train_loader, val_loader)"
   ]
  },
  {
   "cell_type": "code",
   "execution_count": null,
   "id": "5719562d",
   "metadata": {},
   "outputs": [],
   "source": []
  },
  {
   "cell_type": "code",
   "execution_count": null,
   "id": "113113c1",
   "metadata": {},
   "outputs": [],
   "source": []
  },
  {
   "cell_type": "code",
   "execution_count": 257,
   "id": "deb8c5d2",
   "metadata": {},
   "outputs": [
    {
     "data": {
      "image/png": "[encoded data removed]",
      "text/plain": [
       "<Figure size 640x480 with 1 Axes>"
      ]
     },
     "metadata": {},
     "output_type": "display_data"
    }
   ],
   "source": [
    "## Replace these values with your result\n",
    "history = [result0] + history1 + history2# + history3 + history4\n",
    "accuracies = [result['val_acc'] for result in history]\n",
    "plt.plot(accuracies)\n",
    "plt.xlabel('epoch')\n",
    "plt.ylabel('accuracy')\n",
    "plt.title('Accuracy Vs. No. of epochs')\n",
    "plt.savefig('/home/alex/Documents/NN_path_planning/nn/model/plot_Accuracy Vs. No. of epochs.png')"
   ]
  },
  {
   "cell_type": "code",
   "execution_count": 256,
   "id": "98761a2e",
   "metadata": {},
   "outputs": [],
   "source": [
    "torch.save(model, '/home/alex/Documents/NN_path_planning/nn/model/model_v2.pth')"
   ]
  },
  {
   "cell_type": "code",
   "execution_count": 28,
   "id": "c2a8da4c",
   "metadata": {},
   "outputs": [],
   "source": [
    "model_1 = torch.load('/home/alex/Documents/NN_path_planning/nn/model/model_v2.pth')"
   ]
  },
  {
   "cell_type": "code",
   "execution_count": 35,
   "id": "5173a1f3",
   "metadata": {},
   "outputs": [
    {
     "name": "stderr",
     "output_type": "stream",
     "text": [
      "/tmp/ipykernel_501666/1757807647.py:3: UserWarning: Implicit dimension choice for softmax has been deprecated. Change the call to include dim=X as an argument.\n",
      "  action = F.softmax(output).detach().numpy().argmax()\n"
     ]
    },
    {
     "data": {
      "text/plain": [
       "3"
      ]
     },
     "execution_count": 35,
     "metadata": {},
     "output_type": "execute_result"
    }
   ],
   "source": [
    "output = model_1.forward(custom_dataset[3000][0])\n",
    "# _, pred = torch.max(output)\n",
    "action = F.softmax(output).detach().numpy().argmax()\n",
    "action"
   ]
  },
  {
   "cell_type": "code",
   "execution_count": null,
   "id": "ef8230df",
   "metadata": {},
   "outputs": [],
   "source": []
  },
  {
   "cell_type": "code",
   "execution_count": null,
   "id": "f67286ac",
   "metadata": {},
   "outputs": [],
   "source": []
  },
  {
   "cell_type": "code",
   "execution_count": null,
   "id": "8dc8e2e1",
   "metadata": {},
   "outputs": [],
   "source": []
  }
 ],
 "metadata": {
  "kernelspec": {
   "display_name": "Python 3",
   "language": "python",
   "name": "python3"
  },
  "language_info": {
   "codemirror_mode": {
    "name": "ipython",
    "version": 3
   },
   "file_extension": ".py",
   "mimetype": "text/x-python",
   "name": "python",
   "nbconvert_exporter": "python",
   "pygments_lexer": "ipython3",
   "version": "3.10.12"
  }
 },
 "nbformat": 4,
 "nbformat_minor": 5
}
