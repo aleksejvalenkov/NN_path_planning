{
 "cells": [
  {
   "cell_type": "code",
   "execution_count": 29,
   "id": "f437af1b-18fd-4b7e-ba81-f969a0b23268",
   "metadata": {},
   "outputs": [],
   "source": [
    "## Imports\n",
    "import torch\n",
    "import torchvision ## Contains some utilities for working with the image data\n",
    "from torchvision.datasets import MNIST\n",
    "import matplotlib.pyplot as plt\n",
    "#%matplotlib inline\n",
    "from torch.utils.data.dataset import Dataset\n",
    "import torchvision.transforms as transforms\n",
    "from torch.utils.data import random_split\n",
    "from torch.utils.data import DataLoader\n",
    "import torch.nn.functional as F\n",
    "import torch.nn as nn\n",
    "import os\n",
    "import numpy as np\n",
    "import pandas as pd\n",
    "\n",
    "\n"
   ]
  },
  {
   "cell_type": "code",
   "execution_count": 69,
   "id": "662e357e",
   "metadata": {},
   "outputs": [],
   "source": [
    "class CustomDatasetFromDepthImages(Dataset):\n",
    "    def __init__(self, csv_path, img_path):\n",
    "        \"\"\"\n",
    "        Args:\n",
    "            csv_path (string): path to csv file\n",
    "            img_path (string): path to the folder where images are\n",
    "            transform: pytorch transforms for transforms and tensor conversion\n",
    "        \"\"\"\n",
    "        # Transforms\n",
    "        self.to_tensor = transforms.ToTensor()\n",
    "        # Read the csv file\n",
    "        self.data_info = pd.read_csv(csv_path, header=None)\n",
    "        # First column contains the image paths\n",
    "        self.image_arr = np.asarray(self.data_info.iloc[1:, 0])\n",
    "        # Second column is the labels\n",
    "        self.label_arr = np.asarray(self.data_info.iloc[1:, 1])\n",
    "        # Calculate len\n",
    "        self.data_len = len(self.data_info.index) - 2 \n",
    "\n",
    "        self.img_path = img_path\n",
    "\n",
    "    def __getitem__(self, index):\n",
    "        # Get image name from the pandas df\n",
    "        single_image_name = self.img_path + '/' + self.image_arr[index]\n",
    "        # Open image\n",
    "        img_as_img = np.load(single_image_name)\n",
    "        goal_np = img_as_img[:2]\n",
    "        goal_np /= 1000.0\n",
    "        img_as_img = img_as_img[2:]\n",
    "        img_as_img /= 10000.0\n",
    "        # Transform image to tensor\n",
    "        img_as_tensor = torch.from_numpy(img_as_img.astype('float32'))\n",
    "        img_as_tensor = torch.unsqueeze(img_as_tensor, 0)\n",
    "        img_as_tensor = torch.cat(tuple([img_as_tensor for item in range(len(img_as_img))]), 0)\n",
    "        img_as_tensor = torch.unsqueeze(img_as_tensor, 0)\n",
    "        \n",
    "        \n",
    "        goal_as_tensor = torch.from_numpy(goal_np.astype('float32'))\n",
    "        goal_as_tensor = torch.unsqueeze(goal_as_tensor, 1)\n",
    "        goal_as_tensor = torch.unsqueeze(goal_as_tensor, 1)\n",
    "\n",
    "\n",
    "        # Get label(class) of the image based on the cropped pandas column\n",
    "        single_image_label = self.label_arr[index]\n",
    "\n",
    "        return (img_as_tensor, goal_as_tensor, int(single_image_label))\n",
    "\n",
    "    def __len__(self):\n",
    "        return self.data_len\n",
    "    "
   ]
  },
  {
   "cell_type": "code",
   "execution_count": 70,
   "id": "ebb6d649",
   "metadata": {},
   "outputs": [
    {
     "data": {
      "text/html": [
       "<div>\n",
       "<style scoped>\n",
       "    .dataframe tbody tr th:only-of-type {\n",
       "        vertical-align: middle;\n",
       "    }\n",
       "\n",
       "    .dataframe tbody tr th {\n",
       "        vertical-align: top;\n",
       "    }\n",
       "\n",
       "    .dataframe thead th {\n",
       "        text-align: right;\n",
       "    }\n",
       "</style>\n",
       "<table border=\"1\" class=\"dataframe\">\n",
       "  <thead>\n",
       "    <tr style=\"text-align: right;\">\n",
       "      <th></th>\n",
       "      <th>0</th>\n",
       "      <th>1</th>\n",
       "    </tr>\n",
       "  </thead>\n",
       "  <tbody>\n",
       "    <tr>\n",
       "      <th>0</th>\n",
       "      <td>File Name</td>\n",
       "      <td>Label</td>\n",
       "    </tr>\n",
       "    <tr>\n",
       "      <th>1</th>\n",
       "      <td>1.npy</td>\n",
       "      <td>1</td>\n",
       "    </tr>\n",
       "    <tr>\n",
       "      <th>2</th>\n",
       "      <td>2.npy</td>\n",
       "      <td>1</td>\n",
       "    </tr>\n",
       "    <tr>\n",
       "      <th>3</th>\n",
       "      <td>3.npy</td>\n",
       "      <td>1</td>\n",
       "    </tr>\n",
       "    <tr>\n",
       "      <th>4</th>\n",
       "      <td>4.npy</td>\n",
       "      <td>1</td>\n",
       "    </tr>\n",
       "    <tr>\n",
       "      <th>...</th>\n",
       "      <td>...</td>\n",
       "      <td>...</td>\n",
       "    </tr>\n",
       "    <tr>\n",
       "      <th>15932</th>\n",
       "      <td>15933.npy</td>\n",
       "      <td>4</td>\n",
       "    </tr>\n",
       "    <tr>\n",
       "      <th>15933</th>\n",
       "      <td>15934.npy</td>\n",
       "      <td>4</td>\n",
       "    </tr>\n",
       "    <tr>\n",
       "      <th>15934</th>\n",
       "      <td>15935.npy</td>\n",
       "      <td>4</td>\n",
       "    </tr>\n",
       "    <tr>\n",
       "      <th>15935</th>\n",
       "      <td>15936.npy</td>\n",
       "      <td>4</td>\n",
       "    </tr>\n",
       "    <tr>\n",
       "      <th>15936</th>\n",
       "      <td>15937.npy</td>\n",
       "      <td>4</td>\n",
       "    </tr>\n",
       "  </tbody>\n",
       "</table>\n",
       "<p>15937 rows × 2 columns</p>\n",
       "</div>"
      ],
      "text/plain": [
       "               0      1\n",
       "0      File Name  Label\n",
       "1          1.npy      1\n",
       "2          2.npy      1\n",
       "3          3.npy      1\n",
       "4          4.npy      1\n",
       "...          ...    ...\n",
       "15932  15933.npy      4\n",
       "15933  15934.npy      4\n",
       "15934  15935.npy      4\n",
       "15935  15936.npy      4\n",
       "15936  15937.npy      4\n",
       "\n",
       "[15937 rows x 2 columns]"
      ]
     },
     "execution_count": 70,
     "metadata": {},
     "output_type": "execute_result"
    }
   ],
   "source": [
    "DATAPATH = '/home/alex/Documents/datasets/VisualPlanerData/iter_3/out.csv'\n",
    "DATAPATHIMAGES = '/home/alex/Documents/datasets/VisualPlanerData/iter_3'\n",
    "custom_dataset =  CustomDatasetFromDepthImages(DATAPATH, DATAPATHIMAGES)\n",
    "custom_dataset.data_info"
   ]
  },
  {
   "cell_type": "code",
   "execution_count": 71,
   "id": "bbb0a6e1",
   "metadata": {},
   "outputs": [
    {
     "name": "stdout",
     "output_type": "stream",
     "text": [
      "(tensor([[[1.0000, 0.0690, 1.0000,  ..., 1.0000, 1.0000, 1.0000],\n",
      "         [1.0000, 0.0690, 1.0000,  ..., 1.0000, 1.0000, 1.0000],\n",
      "         [1.0000, 0.0690, 1.0000,  ..., 1.0000, 1.0000, 1.0000],\n",
      "         ...,\n",
      "         [1.0000, 0.0690, 1.0000,  ..., 1.0000, 1.0000, 1.0000],\n",
      "         [1.0000, 0.0690, 1.0000,  ..., 1.0000, 1.0000, 1.0000],\n",
      "         [1.0000, 0.0690, 1.0000,  ..., 1.0000, 1.0000, 1.0000]]]), tensor([[[ 0.4561]],\n",
      "\n",
      "        [[-0.4178]]]), 1)\n"
     ]
    }
   ],
   "source": [
    "print(custom_dataset[0])\n",
    "# plt.imshow(image, cmap = 'gray')\n",
    "# print('Label:', label)"
   ]
  },
  {
   "cell_type": "code",
   "execution_count": 72,
   "id": "69cc6477",
   "metadata": {},
   "outputs": [
    {
     "data": {
      "text/plain": [
       "torch.Size([1, 2, 1, 1])"
      ]
     },
     "execution_count": 72,
     "metadata": {},
     "output_type": "execute_result"
    }
   ],
   "source": [
    "t = torch.tensor([-100, 100])\n",
    "t = torch.unsqueeze(t, 1)\n",
    "t = torch.unsqueeze(t, 1)\n",
    "t = torch.unsqueeze(t, 0)\n",
    "# t[0][0][0][0]\n",
    "t.shape"
   ]
  },
  {
   "cell_type": "code",
   "execution_count": 73,
   "id": "741a78ce",
   "metadata": {},
   "outputs": [
    {
     "name": "stdout",
     "output_type": "stream",
     "text": [
      "torch.Size([1, 40, 40]) torch.Size([2, 1, 1]) 1\n",
      "torch.Size([1, 40, 40])\n",
      "torch.Size([60, 40, 40])\n"
     ]
    }
   ],
   "source": [
    "\n",
    "image_tensor, goal_tensor, label = custom_dataset[0]\n",
    "print(image_tensor.shape, goal_tensor.shape, label)\n",
    "print(image_tensor.shape)\n",
    "m = nn.Conv2d(1, 60, 3, stride=1, padding=1)\n",
    "# input = torch.randn(20, 16, 50)\n",
    "output = m(image_tensor)\n",
    "\n",
    "print(output.shape)"
   ]
  },
  {
   "cell_type": "code",
   "execution_count": 74,
   "id": "fa8ca06f",
   "metadata": {},
   "outputs": [
    {
     "name": "stdout",
     "output_type": "stream",
     "text": [
      "tensor([[[1.0000, 0.0690, 1.0000,  ..., 1.0000, 1.0000, 1.0000],\n",
      "         [1.0000, 0.0690, 1.0000,  ..., 1.0000, 1.0000, 1.0000],\n",
      "         [1.0000, 0.0690, 1.0000,  ..., 1.0000, 1.0000, 1.0000],\n",
      "         ...,\n",
      "         [1.0000, 0.0690, 1.0000,  ..., 1.0000, 1.0000, 1.0000],\n",
      "         [1.0000, 0.0690, 1.0000,  ..., 1.0000, 1.0000, 1.0000],\n",
      "         [1.0000, 0.0690, 1.0000,  ..., 1.0000, 1.0000, 1.0000]]])\n",
      "tensor(1.) tensor(0.0417)\n"
     ]
    }
   ],
   "source": [
    "\n",
    "print(image_tensor)\n",
    "print(torch.max(image_tensor), torch.min(image_tensor))"
   ]
  },
  {
   "cell_type": "code",
   "execution_count": 75,
   "id": "eb91f2d6",
   "metadata": {},
   "outputs": [
    {
     "name": "stdout",
     "output_type": "stream",
     "text": [
      "length of Train Datasets:  12748\n",
      "length of Validation Datasets:  3187\n"
     ]
    }
   ],
   "source": [
    "k = 0.8\n",
    "train_data_len = round(custom_dataset.data_len * k)\n",
    "validation_data_len = round(custom_dataset.data_len * (1-k))\n",
    "train_data, validation_data = random_split(custom_dataset, [train_data_len, validation_data_len])\n",
    "## Print the length of train and validation datasets\n",
    "print(\"length of Train Datasets: \", len(train_data))\n",
    "print(\"length of Validation Datasets: \", len(validation_data))"
   ]
  },
  {
   "cell_type": "code",
   "execution_count": 76,
   "id": "ae595554",
   "metadata": {},
   "outputs": [
    {
     "name": "stdout",
     "output_type": "stream",
     "text": [
      "torch.Size([16, 1, 40, 40])\n",
      "torch.Size([16, 2, 1, 1])\n"
     ]
    }
   ],
   "source": [
    "batch_size = 16\n",
    "\n",
    "train_loader = DataLoader(train_data, batch_size, shuffle = True)\n",
    "val_loader = DataLoader(validation_data, batch_size, shuffle = False)\n",
    "\n",
    "for img, goal, label in train_loader:\n",
    "    print(img.shape)\n",
    "    print(goal.shape)\n",
    "    break"
   ]
  },
  {
   "cell_type": "code",
   "execution_count": 52,
   "id": "82dd8779",
   "metadata": {},
   "outputs": [],
   "source": [
    "def accuracy(outputs, labels):\n",
    "    _, preds = torch.max(outputs, dim = 1)\n",
    "    return(torch.tensor(torch.sum(preds == labels).item()/ len(preds)))"
   ]
  },
  {
   "cell_type": "code",
   "execution_count": 62,
   "id": "3a56e60d",
   "metadata": {},
   "outputs": [
    {
     "data": {
      "text/plain": [
       "MnistModel(\n",
       "  (loss_fn): CrossEntropyLoss()\n",
       "  (conv0): Conv2d(1, 20, kernel_size=(3, 3), stride=(1, 1), padding=(1, 1))\n",
       "  (conv1): Conv2d(20, 40, kernel_size=(3, 3), stride=(1, 1), padding=(1, 1))\n",
       "  (conv2): Conv2d(40, 80, kernel_size=(3, 3), stride=(1, 1), padding=(1, 1))\n",
       "  (flat): Flatten(start_dim=1, end_dim=-1)\n",
       "  (linear1): Linear(in_features=82, out_features=150, bias=True)\n",
       "  (linear2): Linear(in_features=150, out_features=100, bias=True)\n",
       "  (linear3): Linear(in_features=100, out_features=50, bias=True)\n",
       "  (linear4): Linear(in_features=50, out_features=25, bias=True)\n",
       "  (linear5): Linear(in_features=25, out_features=6, bias=True)\n",
       "  (act): LeakyReLU(negative_slope=0.2)\n",
       "  (maxpool): MaxPool2d(kernel_size=2, stride=2, padding=0, dilation=1, ceil_mode=False)\n",
       "  (adaptivepool): AdaptiveAvgPool2d(output_size=(1, 1))\n",
       ")"
      ]
     },
     "execution_count": 62,
     "metadata": {},
     "output_type": "execute_result"
    }
   ],
   "source": [
    "input_size = 42*42\n",
    "num_classes = 6\n",
    "\n",
    "class MnistModel(nn.Module):\n",
    "    def __init__(self):\n",
    "        super().__init__()\n",
    "        self.loss_fn = nn.CrossEntropyLoss()\n",
    "\n",
    "        self.conv0 = nn.Conv2d(1, 20, 3, stride=1, padding=1)\n",
    "        self.conv1 = nn.Conv2d(20, 40, 3, stride=1, padding=1)\n",
    "        self.conv2 = nn.Conv2d(40, 80, 3, stride=1, padding=1)\n",
    "\n",
    "        self.flat = nn.Flatten()\n",
    "        self.linear1 = nn.Linear(82, 150)\n",
    "        self.linear2 = nn.Linear(150, 100)\n",
    "        self.linear3 = nn.Linear(100, 50)\n",
    "        self.linear4 = nn.Linear(50, 25)\n",
    "        self.linear5 = nn.Linear(25, num_classes)\n",
    "\n",
    "        self.act = nn.LeakyReLU(0.2)\n",
    "        self.maxpool = nn.MaxPool2d(2,2)\n",
    "        self.adaptivepool = nn.AdaptiveAvgPool2d((1,1))\n",
    "    \n",
    "    def forward(self, x, g):\n",
    "        # print(xb.shape)\n",
    "        out = self.conv0(x)\n",
    "        out = self.act(out)\n",
    "        # print(out.shape)\n",
    "        out = self.conv1(out)\n",
    "        out = self.act(out)\n",
    "        # print(out.shape)\n",
    "        out = self.conv2(out)\n",
    "        out = self.act(out)\n",
    "        # print(out.shape)\n",
    "\n",
    "        out = self.adaptivepool(out)\n",
    "        # print(out.shape)\n",
    "        out = torch.cat((out, g), 1)\n",
    "        # print(out.shape)\n",
    "\n",
    "        out = self.flat(out)\n",
    "        out = self.linear1(out)\n",
    "        out = self.act(out)\n",
    "        out = self.linear2(out)\n",
    "        out = self.act(out)\n",
    "        out = self.linear3(out)\n",
    "        out = self.act(out)\n",
    "        out = self.linear4(out)\n",
    "        out = self.act(out)\n",
    "        out = self.linear5(out)\n",
    "        return(out)\n",
    "    \n",
    "    def training_step(self, batch):\n",
    "        images, goals, labels = batch\n",
    "        out = self(images, goals) ## Generate predictions\n",
    "        loss = self.loss_fn(out, labels) ## Calculate the loss\n",
    "        return(loss)\n",
    "    \n",
    "    def validation_step(self, batch):\n",
    "        images, goals, labels = batch\n",
    "        out = self(images, goals)\n",
    "        # labels = F.one_hot(labels, num_classes)\n",
    "        # out = torch.argmax(out, dim=1) \n",
    "        # out = torch.argmax(out, dim=1) \n",
    "        # print(out.shape, labels.shape)\n",
    "        loss = F.cross_entropy(out, labels)\n",
    "        acc = accuracy(out, labels)\n",
    "        return({'val_loss':loss, 'val_acc': acc})\n",
    "    \n",
    "    def validation_epoch_end(self, outputs):\n",
    "        batch_losses = [x['val_loss'] for x in outputs]\n",
    "        epoch_loss = torch.stack(batch_losses).mean()\n",
    "        batch_accs = [x['val_acc'] for x in outputs]\n",
    "        epoch_acc = torch.stack(batch_accs).mean()\n",
    "        return({'val_loss': epoch_loss.item(), 'val_acc' : epoch_acc.item()})\n",
    "    \n",
    "    def epoch_end(self, epoch,result):\n",
    "        print(\"Epoch [{}], val_loss: {:.4f}, val_acc: {:.4f}\".format(epoch, result['val_loss'], result['val_acc']))\n",
    "    \n",
    "model = MnistModel()\n",
    "model\n"
   ]
  },
  {
   "cell_type": "code",
   "execution_count": 63,
   "id": "62ac7ab3",
   "metadata": {},
   "outputs": [
    {
     "name": "stdout",
     "output_type": "stream",
     "text": [
      "tensor([[[-0.6179]],\n",
      "\n",
      "        [[ 0.1903]]])\n"
     ]
    },
    {
     "data": {
      "text/plain": [
       "torch.Size([1, 6])"
      ]
     },
     "execution_count": 63,
     "metadata": {},
     "output_type": "execute_result"
    }
   ],
   "source": [
    "\n",
    "image_tensor = custom_dataset[100][0]\n",
    "goal_tensor = custom_dataset[100][1]\n",
    "print(goal_tensor)\n",
    "image_tensor = torch.unsqueeze(image_tensor, 0)\n",
    "goal_tensor = torch.unsqueeze(goal_tensor, 0)\n",
    "model.forward(image_tensor, goal_tensor).shape\n"
   ]
  },
  {
   "cell_type": "code",
   "execution_count": 64,
   "id": "017dbb8e",
   "metadata": {},
   "outputs": [],
   "source": [
    "def evaluate(model, val_loader):\n",
    "    outputs = [model.validation_step(batch) for batch in val_loader]\n",
    "    return(model.validation_epoch_end(outputs))\n",
    "\n",
    "def fit(epochs, lr, model, train_loader, val_loader, opt_func = torch.optim.Adam):\n",
    "    history = []\n",
    "    optimizer = opt_func(model.parameters(), lr)\n",
    "    for epoch in range(epochs):\n",
    "        \n",
    "        ## Training Phas\n",
    "        for batch in train_loader:\n",
    "            loss = model.training_step(batch)\n",
    "            loss.backward()\n",
    "            optimizer.step()\n",
    "            optimizer.zero_grad()\n",
    "        \n",
    "        ## Validation phase\n",
    "        result = evaluate(model, val_loader)\n",
    "        model.epoch_end(epoch, result)\n",
    "        history.append(result)\n",
    "    return(history)"
   ]
  },
  {
   "cell_type": "code",
   "execution_count": 65,
   "id": "1c772649",
   "metadata": {},
   "outputs": [
    {
     "data": {
      "text/plain": [
       "{'val_loss': 1.8897535800933838, 'val_acc': 0.14677418768405914}"
      ]
     },
     "execution_count": 65,
     "metadata": {},
     "output_type": "execute_result"
    }
   ],
   "source": [
    "result0 = evaluate(model, val_loader)\n",
    "result0"
   ]
  },
  {
   "cell_type": "code",
   "execution_count": 66,
   "id": "b2cdd952",
   "metadata": {},
   "outputs": [
    {
     "name": "stdout",
     "output_type": "stream",
     "text": [
      "Epoch [0], val_loss: 0.9122, val_acc: 0.6597\n",
      "Epoch [1], val_loss: 0.8163, val_acc: 0.6880\n",
      "Epoch [2], val_loss: 0.7938, val_acc: 0.6859\n",
      "Epoch [3], val_loss: 0.7816, val_acc: 0.6933\n",
      "Epoch [4], val_loss: 0.7554, val_acc: 0.7017\n",
      "Epoch [5], val_loss: 0.7310, val_acc: 0.7198\n",
      "Epoch [6], val_loss: 0.7562, val_acc: 0.7061\n",
      "Epoch [7], val_loss: 0.7122, val_acc: 0.7234\n",
      "Epoch [8], val_loss: 0.7296, val_acc: 0.7166\n",
      "Epoch [9], val_loss: 0.7023, val_acc: 0.7267\n",
      "Epoch [10], val_loss: 0.6857, val_acc: 0.7347\n",
      "Epoch [11], val_loss: 0.6778, val_acc: 0.7300\n",
      "Epoch [12], val_loss: 0.6685, val_acc: 0.7359\n",
      "Epoch [13], val_loss: 0.6592, val_acc: 0.7405\n",
      "Epoch [14], val_loss: 0.6730, val_acc: 0.7328\n",
      "Epoch [15], val_loss: 0.6771, val_acc: 0.7283\n",
      "Epoch [16], val_loss: 0.6169, val_acc: 0.7719\n",
      "Epoch [17], val_loss: 0.6200, val_acc: 0.7682\n",
      "Epoch [18], val_loss: 0.6509, val_acc: 0.7434\n",
      "Epoch [19], val_loss: 0.6105, val_acc: 0.7668\n",
      "Epoch [20], val_loss: 0.6005, val_acc: 0.7817\n",
      "Epoch [21], val_loss: 0.5936, val_acc: 0.7836\n",
      "Epoch [22], val_loss: 0.5818, val_acc: 0.7906\n",
      "Epoch [23], val_loss: 0.5783, val_acc: 0.7862\n",
      "Epoch [24], val_loss: 0.5491, val_acc: 0.8124\n",
      "Epoch [25], val_loss: 0.5791, val_acc: 0.7917\n",
      "Epoch [26], val_loss: 0.5518, val_acc: 0.8031\n",
      "Epoch [27], val_loss: 0.5976, val_acc: 0.7765\n",
      "Epoch [28], val_loss: 0.5674, val_acc: 0.7946\n",
      "Epoch [29], val_loss: 0.5628, val_acc: 0.7950\n",
      "Epoch [30], val_loss: 0.5289, val_acc: 0.8031\n",
      "Epoch [31], val_loss: 0.5397, val_acc: 0.8075\n",
      "Epoch [32], val_loss: 0.5263, val_acc: 0.8120\n",
      "Epoch [33], val_loss: 0.5452, val_acc: 0.8088\n",
      "Epoch [34], val_loss: 0.5548, val_acc: 0.8071\n",
      "Epoch [35], val_loss: 0.5646, val_acc: 0.7983\n",
      "Epoch [36], val_loss: 0.5448, val_acc: 0.7990\n",
      "Epoch [37], val_loss: 0.5210, val_acc: 0.8140\n",
      "Epoch [38], val_loss: 0.5019, val_acc: 0.8269\n",
      "Epoch [39], val_loss: 0.5537, val_acc: 0.8120\n",
      "Epoch [40], val_loss: 0.5335, val_acc: 0.8180\n",
      "Epoch [41], val_loss: 0.5565, val_acc: 0.8071\n",
      "Epoch [42], val_loss: 0.5307, val_acc: 0.8084\n",
      "Epoch [43], val_loss: 0.5247, val_acc: 0.8233\n",
      "Epoch [44], val_loss: 0.5364, val_acc: 0.8151\n",
      "Epoch [45], val_loss: 0.5280, val_acc: 0.8156\n",
      "Epoch [46], val_loss: 0.5529, val_acc: 0.8075\n",
      "Epoch [47], val_loss: 0.5294, val_acc: 0.8204\n",
      "Epoch [48], val_loss: 0.5435, val_acc: 0.8200\n",
      "Epoch [49], val_loss: 0.5928, val_acc: 0.8084\n",
      "Epoch [50], val_loss: 0.4987, val_acc: 0.8242\n",
      "Epoch [51], val_loss: 0.5051, val_acc: 0.8249\n",
      "Epoch [52], val_loss: 0.5401, val_acc: 0.8155\n",
      "Epoch [53], val_loss: 0.5422, val_acc: 0.8145\n",
      "Epoch [54], val_loss: 0.5254, val_acc: 0.8315\n",
      "Epoch [55], val_loss: 0.5493, val_acc: 0.8031\n",
      "Epoch [56], val_loss: 0.5401, val_acc: 0.8184\n",
      "Epoch [57], val_loss: 0.5292, val_acc: 0.8237\n",
      "Epoch [58], val_loss: 0.5564, val_acc: 0.8164\n",
      "Epoch [59], val_loss: 0.6043, val_acc: 0.8108\n",
      "Epoch [60], val_loss: 0.5514, val_acc: 0.8248\n",
      "Epoch [61], val_loss: 0.5376, val_acc: 0.8346\n",
      "Epoch [62], val_loss: 0.5181, val_acc: 0.8354\n",
      "Epoch [63], val_loss: 0.5502, val_acc: 0.8168\n",
      "Epoch [64], val_loss: 0.5535, val_acc: 0.8297\n",
      "Epoch [65], val_loss: 0.5228, val_acc: 0.8249\n",
      "Epoch [66], val_loss: 0.5332, val_acc: 0.8241\n",
      "Epoch [67], val_loss: 0.5685, val_acc: 0.8249\n",
      "Epoch [68], val_loss: 0.5027, val_acc: 0.8362\n",
      "Epoch [69], val_loss: 0.5481, val_acc: 0.8204\n",
      "Epoch [70], val_loss: 0.5369, val_acc: 0.8289\n",
      "Epoch [71], val_loss: 0.5658, val_acc: 0.8325\n",
      "Epoch [72], val_loss: 0.5727, val_acc: 0.8100\n",
      "Epoch [73], val_loss: 0.5498, val_acc: 0.8156\n",
      "Epoch [74], val_loss: 0.5609, val_acc: 0.8164\n",
      "Epoch [75], val_loss: 0.5492, val_acc: 0.8290\n",
      "Epoch [76], val_loss: 0.5795, val_acc: 0.8253\n",
      "Epoch [77], val_loss: 0.5341, val_acc: 0.8273\n",
      "Epoch [78], val_loss: 0.5270, val_acc: 0.8366\n",
      "Epoch [79], val_loss: 0.5836, val_acc: 0.8273\n",
      "Epoch [80], val_loss: 0.5274, val_acc: 0.8325\n",
      "Epoch [81], val_loss: 0.6031, val_acc: 0.8176\n",
      "Epoch [82], val_loss: 0.5410, val_acc: 0.8362\n",
      "Epoch [83], val_loss: 0.5340, val_acc: 0.8320\n",
      "Epoch [84], val_loss: 0.5467, val_acc: 0.8350\n",
      "Epoch [85], val_loss: 0.5563, val_acc: 0.8325\n",
      "Epoch [86], val_loss: 0.5210, val_acc: 0.8397\n",
      "Epoch [87], val_loss: 0.5587, val_acc: 0.8265\n",
      "Epoch [88], val_loss: 0.5657, val_acc: 0.8132\n",
      "Epoch [89], val_loss: 0.5541, val_acc: 0.8273\n",
      "Epoch [90], val_loss: 0.5703, val_acc: 0.8261\n",
      "Epoch [91], val_loss: 0.5267, val_acc: 0.8336\n",
      "Epoch [92], val_loss: 0.5959, val_acc: 0.8297\n",
      "Epoch [93], val_loss: 0.5732, val_acc: 0.8233\n",
      "Epoch [94], val_loss: 0.5923, val_acc: 0.8269\n",
      "Epoch [95], val_loss: 0.5466, val_acc: 0.8382\n",
      "Epoch [96], val_loss: 0.5668, val_acc: 0.8386\n",
      "Epoch [97], val_loss: 0.5642, val_acc: 0.8170\n",
      "Epoch [98], val_loss: 0.5447, val_acc: 0.8394\n",
      "Epoch [99], val_loss: 0.5557, val_acc: 0.8366\n"
     ]
    }
   ],
   "source": [
    "history1 = fit(100, 0.001, model, train_loader, val_loader)"
   ]
  },
  {
   "cell_type": "code",
   "execution_count": 77,
   "id": "0b42bfd2",
   "metadata": {},
   "outputs": [
    {
     "name": "stdout",
     "output_type": "stream",
     "text": [
      "Epoch [0], val_loss: 0.5332, val_acc: 0.7962\n",
      "Epoch [1], val_loss: 0.4891, val_acc: 0.8221\n",
      "Epoch [2], val_loss: 0.4592, val_acc: 0.8238\n",
      "Epoch [3], val_loss: 0.5080, val_acc: 0.8144\n",
      "Epoch [4], val_loss: 0.4624, val_acc: 0.8319\n",
      "Epoch [5], val_loss: 0.4364, val_acc: 0.8347\n",
      "Epoch [6], val_loss: 0.4645, val_acc: 0.8291\n",
      "Epoch [7], val_loss: 0.4730, val_acc: 0.8193\n",
      "Epoch [8], val_loss: 0.4759, val_acc: 0.8293\n",
      "Epoch [9], val_loss: 0.4567, val_acc: 0.8375\n",
      "Epoch [10], val_loss: 0.4641, val_acc: 0.8403\n",
      "Epoch [11], val_loss: 0.4743, val_acc: 0.8305\n",
      "Epoch [12], val_loss: 0.4606, val_acc: 0.8324\n",
      "Epoch [13], val_loss: 0.4631, val_acc: 0.8415\n",
      "Epoch [14], val_loss: 0.4790, val_acc: 0.8297\n",
      "Epoch [15], val_loss: 0.4841, val_acc: 0.8344\n",
      "Epoch [16], val_loss: 0.4403, val_acc: 0.8421\n",
      "Epoch [17], val_loss: 0.4599, val_acc: 0.8430\n",
      "Epoch [18], val_loss: 0.4667, val_acc: 0.8336\n",
      "Epoch [19], val_loss: 0.4456, val_acc: 0.8466\n",
      "Epoch [20], val_loss: 0.4663, val_acc: 0.8359\n",
      "Epoch [21], val_loss: 0.4646, val_acc: 0.8403\n",
      "Epoch [22], val_loss: 0.4721, val_acc: 0.8430\n",
      "Epoch [23], val_loss: 0.4694, val_acc: 0.8393\n",
      "Epoch [24], val_loss: 0.4832, val_acc: 0.8424\n",
      "Epoch [25], val_loss: 0.4790, val_acc: 0.8394\n",
      "Epoch [26], val_loss: 0.4710, val_acc: 0.8487\n",
      "Epoch [27], val_loss: 0.4965, val_acc: 0.8419\n",
      "Epoch [28], val_loss: 0.5278, val_acc: 0.8416\n",
      "Epoch [29], val_loss: 0.4692, val_acc: 0.8352\n",
      "Epoch [30], val_loss: 0.5044, val_acc: 0.8418\n",
      "Epoch [31], val_loss: 0.5177, val_acc: 0.8333\n",
      "Epoch [32], val_loss: 0.4853, val_acc: 0.8458\n",
      "Epoch [33], val_loss: 0.5146, val_acc: 0.8374\n",
      "Epoch [34], val_loss: 0.5067, val_acc: 0.8416\n",
      "Epoch [35], val_loss: 0.4878, val_acc: 0.8480\n",
      "Epoch [36], val_loss: 0.5172, val_acc: 0.8349\n",
      "Epoch [37], val_loss: 0.4864, val_acc: 0.8533\n",
      "Epoch [38], val_loss: 0.4799, val_acc: 0.8596\n",
      "Epoch [39], val_loss: 0.5607, val_acc: 0.8386\n",
      "Epoch [40], val_loss: 0.5503, val_acc: 0.8393\n",
      "Epoch [41], val_loss: 0.4852, val_acc: 0.8468\n",
      "Epoch [42], val_loss: 0.5185, val_acc: 0.8481\n",
      "Epoch [43], val_loss: 0.5339, val_acc: 0.8521\n",
      "Epoch [44], val_loss: 0.5087, val_acc: 0.8478\n",
      "Epoch [45], val_loss: 0.4735, val_acc: 0.8591\n",
      "Epoch [46], val_loss: 0.5345, val_acc: 0.8474\n",
      "Epoch [47], val_loss: 0.5083, val_acc: 0.8490\n",
      "Epoch [48], val_loss: 0.4973, val_acc: 0.8612\n",
      "Epoch [49], val_loss: 0.5900, val_acc: 0.8327\n",
      "Epoch [50], val_loss: 0.5082, val_acc: 0.8452\n",
      "Epoch [51], val_loss: 0.5330, val_acc: 0.8355\n",
      "Epoch [52], val_loss: 0.5446, val_acc: 0.8481\n",
      "Epoch [53], val_loss: 0.5074, val_acc: 0.8525\n",
      "Epoch [54], val_loss: 0.5382, val_acc: 0.8493\n",
      "Epoch [55], val_loss: 0.4994, val_acc: 0.8477\n",
      "Epoch [56], val_loss: 0.5380, val_acc: 0.8415\n",
      "Epoch [57], val_loss: 0.5433, val_acc: 0.8468\n",
      "Epoch [58], val_loss: 0.5501, val_acc: 0.8480\n",
      "Epoch [59], val_loss: 0.5311, val_acc: 0.8468\n",
      "Epoch [60], val_loss: 0.5330, val_acc: 0.8456\n",
      "Epoch [61], val_loss: 0.5413, val_acc: 0.8502\n",
      "Epoch [62], val_loss: 0.5489, val_acc: 0.8518\n",
      "Epoch [63], val_loss: 0.5450, val_acc: 0.8411\n",
      "Epoch [64], val_loss: 0.5131, val_acc: 0.8487\n",
      "Epoch [65], val_loss: 0.5372, val_acc: 0.8427\n",
      "Epoch [66], val_loss: 0.5284, val_acc: 0.8430\n",
      "Epoch [67], val_loss: 0.5813, val_acc: 0.8408\n",
      "Epoch [68], val_loss: 0.5779, val_acc: 0.8433\n"
     ]
    },
    {
     "ename": "KeyboardInterrupt",
     "evalue": "",
     "output_type": "error",
     "traceback": [
      "\u001b[0;31m---------------------------------------------------------------------------\u001b[0m",
      "\u001b[0;31mKeyboardInterrupt\u001b[0m                         Traceback (most recent call last)",
      "Cell \u001b[0;32mIn[77], line 1\u001b[0m\n\u001b[0;32m----> 1\u001b[0m history2 \u001b[38;5;241m=\u001b[39m \u001b[43mfit\u001b[49m\u001b[43m(\u001b[49m\u001b[38;5;241;43m100\u001b[39;49m\u001b[43m,\u001b[49m\u001b[43m \u001b[49m\u001b[38;5;241;43m0.001\u001b[39;49m\u001b[43m,\u001b[49m\u001b[43m \u001b[49m\u001b[43mmodel\u001b[49m\u001b[43m,\u001b[49m\u001b[43m \u001b[49m\u001b[43mtrain_loader\u001b[49m\u001b[43m,\u001b[49m\u001b[43m \u001b[49m\u001b[43mval_loader\u001b[49m\u001b[43m)\u001b[49m\n",
      "Cell \u001b[0;32mIn[64], line 12\u001b[0m, in \u001b[0;36mfit\u001b[0;34m(epochs, lr, model, train_loader, val_loader, opt_func)\u001b[0m\n\u001b[1;32m      8\u001b[0m \u001b[38;5;28;01mfor\u001b[39;00m epoch \u001b[38;5;129;01min\u001b[39;00m \u001b[38;5;28mrange\u001b[39m(epochs):\n\u001b[1;32m      9\u001b[0m     \n\u001b[1;32m     10\u001b[0m     \u001b[38;5;66;03m## Training Phas\u001b[39;00m\n\u001b[1;32m     11\u001b[0m     \u001b[38;5;28;01mfor\u001b[39;00m batch \u001b[38;5;129;01min\u001b[39;00m train_loader:\n\u001b[0;32m---> 12\u001b[0m         loss \u001b[38;5;241m=\u001b[39m \u001b[43mmodel\u001b[49m\u001b[38;5;241;43m.\u001b[39;49m\u001b[43mtraining_step\u001b[49m\u001b[43m(\u001b[49m\u001b[43mbatch\u001b[49m\u001b[43m)\u001b[49m\n\u001b[1;32m     13\u001b[0m         loss\u001b[38;5;241m.\u001b[39mbackward()\n\u001b[1;32m     14\u001b[0m         optimizer\u001b[38;5;241m.\u001b[39mstep()\n",
      "Cell \u001b[0;32mIn[62], line 55\u001b[0m, in \u001b[0;36mMnistModel.training_step\u001b[0;34m(self, batch)\u001b[0m\n\u001b[1;32m     53\u001b[0m \u001b[38;5;28;01mdef\u001b[39;00m \u001b[38;5;21mtraining_step\u001b[39m(\u001b[38;5;28mself\u001b[39m, batch):\n\u001b[1;32m     54\u001b[0m     images, goals, labels \u001b[38;5;241m=\u001b[39m batch\n\u001b[0;32m---> 55\u001b[0m     out \u001b[38;5;241m=\u001b[39m \u001b[38;5;28;43mself\u001b[39;49m\u001b[43m(\u001b[49m\u001b[43mimages\u001b[49m\u001b[43m,\u001b[49m\u001b[43m \u001b[49m\u001b[43mgoals\u001b[49m\u001b[43m)\u001b[49m \u001b[38;5;66;03m## Generate predictions\u001b[39;00m\n\u001b[1;32m     56\u001b[0m     loss \u001b[38;5;241m=\u001b[39m \u001b[38;5;28mself\u001b[39m\u001b[38;5;241m.\u001b[39mloss_fn(out, labels) \u001b[38;5;66;03m## Calculate the loss\u001b[39;00m\n\u001b[1;32m     57\u001b[0m     \u001b[38;5;28;01mreturn\u001b[39;00m(loss)\n",
      "File \u001b[0;32m~/.local/lib/python3.10/site-packages/torch/nn/modules/module.py:1532\u001b[0m, in \u001b[0;36mModule._wrapped_call_impl\u001b[0;34m(self, *args, **kwargs)\u001b[0m\n\u001b[1;32m   1530\u001b[0m     \u001b[38;5;28;01mreturn\u001b[39;00m \u001b[38;5;28mself\u001b[39m\u001b[38;5;241m.\u001b[39m_compiled_call_impl(\u001b[38;5;241m*\u001b[39margs, \u001b[38;5;241m*\u001b[39m\u001b[38;5;241m*\u001b[39mkwargs)  \u001b[38;5;66;03m# type: ignore[misc]\u001b[39;00m\n\u001b[1;32m   1531\u001b[0m \u001b[38;5;28;01melse\u001b[39;00m:\n\u001b[0;32m-> 1532\u001b[0m     \u001b[38;5;28;01mreturn\u001b[39;00m \u001b[38;5;28;43mself\u001b[39;49m\u001b[38;5;241;43m.\u001b[39;49m\u001b[43m_call_impl\u001b[49m\u001b[43m(\u001b[49m\u001b[38;5;241;43m*\u001b[39;49m\u001b[43margs\u001b[49m\u001b[43m,\u001b[49m\u001b[43m \u001b[49m\u001b[38;5;241;43m*\u001b[39;49m\u001b[38;5;241;43m*\u001b[39;49m\u001b[43mkwargs\u001b[49m\u001b[43m)\u001b[49m\n",
      "File \u001b[0;32m~/.local/lib/python3.10/site-packages/torch/nn/modules/module.py:1541\u001b[0m, in \u001b[0;36mModule._call_impl\u001b[0;34m(self, *args, **kwargs)\u001b[0m\n\u001b[1;32m   1536\u001b[0m \u001b[38;5;66;03m# If we don't have any hooks, we want to skip the rest of the logic in\u001b[39;00m\n\u001b[1;32m   1537\u001b[0m \u001b[38;5;66;03m# this function, and just call forward.\u001b[39;00m\n\u001b[1;32m   1538\u001b[0m \u001b[38;5;28;01mif\u001b[39;00m \u001b[38;5;129;01mnot\u001b[39;00m (\u001b[38;5;28mself\u001b[39m\u001b[38;5;241m.\u001b[39m_backward_hooks \u001b[38;5;129;01mor\u001b[39;00m \u001b[38;5;28mself\u001b[39m\u001b[38;5;241m.\u001b[39m_backward_pre_hooks \u001b[38;5;129;01mor\u001b[39;00m \u001b[38;5;28mself\u001b[39m\u001b[38;5;241m.\u001b[39m_forward_hooks \u001b[38;5;129;01mor\u001b[39;00m \u001b[38;5;28mself\u001b[39m\u001b[38;5;241m.\u001b[39m_forward_pre_hooks\n\u001b[1;32m   1539\u001b[0m         \u001b[38;5;129;01mor\u001b[39;00m _global_backward_pre_hooks \u001b[38;5;129;01mor\u001b[39;00m _global_backward_hooks\n\u001b[1;32m   1540\u001b[0m         \u001b[38;5;129;01mor\u001b[39;00m _global_forward_hooks \u001b[38;5;129;01mor\u001b[39;00m _global_forward_pre_hooks):\n\u001b[0;32m-> 1541\u001b[0m     \u001b[38;5;28;01mreturn\u001b[39;00m \u001b[43mforward_call\u001b[49m\u001b[43m(\u001b[49m\u001b[38;5;241;43m*\u001b[39;49m\u001b[43margs\u001b[49m\u001b[43m,\u001b[49m\u001b[43m \u001b[49m\u001b[38;5;241;43m*\u001b[39;49m\u001b[38;5;241;43m*\u001b[39;49m\u001b[43mkwargs\u001b[49m\u001b[43m)\u001b[49m\n\u001b[1;32m   1543\u001b[0m \u001b[38;5;28;01mtry\u001b[39;00m:\n\u001b[1;32m   1544\u001b[0m     result \u001b[38;5;241m=\u001b[39m \u001b[38;5;28;01mNone\u001b[39;00m\n",
      "Cell \u001b[0;32mIn[62], line 29\u001b[0m, in \u001b[0;36mMnistModel.forward\u001b[0;34m(self, x, g)\u001b[0m\n\u001b[1;32m     27\u001b[0m out \u001b[38;5;241m=\u001b[39m \u001b[38;5;28mself\u001b[39m\u001b[38;5;241m.\u001b[39mact(out)\n\u001b[1;32m     28\u001b[0m \u001b[38;5;66;03m# print(out.shape)\u001b[39;00m\n\u001b[0;32m---> 29\u001b[0m out \u001b[38;5;241m=\u001b[39m \u001b[38;5;28;43mself\u001b[39;49m\u001b[38;5;241;43m.\u001b[39;49m\u001b[43mconv1\u001b[49m\u001b[43m(\u001b[49m\u001b[43mout\u001b[49m\u001b[43m)\u001b[49m\n\u001b[1;32m     30\u001b[0m out \u001b[38;5;241m=\u001b[39m \u001b[38;5;28mself\u001b[39m\u001b[38;5;241m.\u001b[39mact(out)\n\u001b[1;32m     31\u001b[0m \u001b[38;5;66;03m# print(out.shape)\u001b[39;00m\n",
      "File \u001b[0;32m~/.local/lib/python3.10/site-packages/torch/nn/modules/module.py:1532\u001b[0m, in \u001b[0;36mModule._wrapped_call_impl\u001b[0;34m(self, *args, **kwargs)\u001b[0m\n\u001b[1;32m   1530\u001b[0m     \u001b[38;5;28;01mreturn\u001b[39;00m \u001b[38;5;28mself\u001b[39m\u001b[38;5;241m.\u001b[39m_compiled_call_impl(\u001b[38;5;241m*\u001b[39margs, \u001b[38;5;241m*\u001b[39m\u001b[38;5;241m*\u001b[39mkwargs)  \u001b[38;5;66;03m# type: ignore[misc]\u001b[39;00m\n\u001b[1;32m   1531\u001b[0m \u001b[38;5;28;01melse\u001b[39;00m:\n\u001b[0;32m-> 1532\u001b[0m     \u001b[38;5;28;01mreturn\u001b[39;00m \u001b[38;5;28;43mself\u001b[39;49m\u001b[38;5;241;43m.\u001b[39;49m\u001b[43m_call_impl\u001b[49m\u001b[43m(\u001b[49m\u001b[38;5;241;43m*\u001b[39;49m\u001b[43margs\u001b[49m\u001b[43m,\u001b[49m\u001b[43m \u001b[49m\u001b[38;5;241;43m*\u001b[39;49m\u001b[38;5;241;43m*\u001b[39;49m\u001b[43mkwargs\u001b[49m\u001b[43m)\u001b[49m\n",
      "File \u001b[0;32m~/.local/lib/python3.10/site-packages/torch/nn/modules/module.py:1541\u001b[0m, in \u001b[0;36mModule._call_impl\u001b[0;34m(self, *args, **kwargs)\u001b[0m\n\u001b[1;32m   1536\u001b[0m \u001b[38;5;66;03m# If we don't have any hooks, we want to skip the rest of the logic in\u001b[39;00m\n\u001b[1;32m   1537\u001b[0m \u001b[38;5;66;03m# this function, and just call forward.\u001b[39;00m\n\u001b[1;32m   1538\u001b[0m \u001b[38;5;28;01mif\u001b[39;00m \u001b[38;5;129;01mnot\u001b[39;00m (\u001b[38;5;28mself\u001b[39m\u001b[38;5;241m.\u001b[39m_backward_hooks \u001b[38;5;129;01mor\u001b[39;00m \u001b[38;5;28mself\u001b[39m\u001b[38;5;241m.\u001b[39m_backward_pre_hooks \u001b[38;5;129;01mor\u001b[39;00m \u001b[38;5;28mself\u001b[39m\u001b[38;5;241m.\u001b[39m_forward_hooks \u001b[38;5;129;01mor\u001b[39;00m \u001b[38;5;28mself\u001b[39m\u001b[38;5;241m.\u001b[39m_forward_pre_hooks\n\u001b[1;32m   1539\u001b[0m         \u001b[38;5;129;01mor\u001b[39;00m _global_backward_pre_hooks \u001b[38;5;129;01mor\u001b[39;00m _global_backward_hooks\n\u001b[1;32m   1540\u001b[0m         \u001b[38;5;129;01mor\u001b[39;00m _global_forward_hooks \u001b[38;5;129;01mor\u001b[39;00m _global_forward_pre_hooks):\n\u001b[0;32m-> 1541\u001b[0m     \u001b[38;5;28;01mreturn\u001b[39;00m \u001b[43mforward_call\u001b[49m\u001b[43m(\u001b[49m\u001b[38;5;241;43m*\u001b[39;49m\u001b[43margs\u001b[49m\u001b[43m,\u001b[49m\u001b[43m \u001b[49m\u001b[38;5;241;43m*\u001b[39;49m\u001b[38;5;241;43m*\u001b[39;49m\u001b[43mkwargs\u001b[49m\u001b[43m)\u001b[49m\n\u001b[1;32m   1543\u001b[0m \u001b[38;5;28;01mtry\u001b[39;00m:\n\u001b[1;32m   1544\u001b[0m     result \u001b[38;5;241m=\u001b[39m \u001b[38;5;28;01mNone\u001b[39;00m\n",
      "File \u001b[0;32m~/.local/lib/python3.10/site-packages/torch/nn/modules/conv.py:460\u001b[0m, in \u001b[0;36mConv2d.forward\u001b[0;34m(self, input)\u001b[0m\n\u001b[1;32m    459\u001b[0m \u001b[38;5;28;01mdef\u001b[39;00m \u001b[38;5;21mforward\u001b[39m(\u001b[38;5;28mself\u001b[39m, \u001b[38;5;28minput\u001b[39m: Tensor) \u001b[38;5;241m-\u001b[39m\u001b[38;5;241m>\u001b[39m Tensor:\n\u001b[0;32m--> 460\u001b[0m     \u001b[38;5;28;01mreturn\u001b[39;00m \u001b[38;5;28;43mself\u001b[39;49m\u001b[38;5;241;43m.\u001b[39;49m\u001b[43m_conv_forward\u001b[49m\u001b[43m(\u001b[49m\u001b[38;5;28;43minput\u001b[39;49m\u001b[43m,\u001b[49m\u001b[43m \u001b[49m\u001b[38;5;28;43mself\u001b[39;49m\u001b[38;5;241;43m.\u001b[39;49m\u001b[43mweight\u001b[49m\u001b[43m,\u001b[49m\u001b[43m \u001b[49m\u001b[38;5;28;43mself\u001b[39;49m\u001b[38;5;241;43m.\u001b[39;49m\u001b[43mbias\u001b[49m\u001b[43m)\u001b[49m\n",
      "File \u001b[0;32m~/.local/lib/python3.10/site-packages/torch/nn/modules/conv.py:456\u001b[0m, in \u001b[0;36mConv2d._conv_forward\u001b[0;34m(self, input, weight, bias)\u001b[0m\n\u001b[1;32m    452\u001b[0m \u001b[38;5;28;01mif\u001b[39;00m \u001b[38;5;28mself\u001b[39m\u001b[38;5;241m.\u001b[39mpadding_mode \u001b[38;5;241m!=\u001b[39m \u001b[38;5;124m'\u001b[39m\u001b[38;5;124mzeros\u001b[39m\u001b[38;5;124m'\u001b[39m:\n\u001b[1;32m    453\u001b[0m     \u001b[38;5;28;01mreturn\u001b[39;00m F\u001b[38;5;241m.\u001b[39mconv2d(F\u001b[38;5;241m.\u001b[39mpad(\u001b[38;5;28minput\u001b[39m, \u001b[38;5;28mself\u001b[39m\u001b[38;5;241m.\u001b[39m_reversed_padding_repeated_twice, mode\u001b[38;5;241m=\u001b[39m\u001b[38;5;28mself\u001b[39m\u001b[38;5;241m.\u001b[39mpadding_mode),\n\u001b[1;32m    454\u001b[0m                     weight, bias, \u001b[38;5;28mself\u001b[39m\u001b[38;5;241m.\u001b[39mstride,\n\u001b[1;32m    455\u001b[0m                     _pair(\u001b[38;5;241m0\u001b[39m), \u001b[38;5;28mself\u001b[39m\u001b[38;5;241m.\u001b[39mdilation, \u001b[38;5;28mself\u001b[39m\u001b[38;5;241m.\u001b[39mgroups)\n\u001b[0;32m--> 456\u001b[0m \u001b[38;5;28;01mreturn\u001b[39;00m \u001b[43mF\u001b[49m\u001b[38;5;241;43m.\u001b[39;49m\u001b[43mconv2d\u001b[49m\u001b[43m(\u001b[49m\u001b[38;5;28;43minput\u001b[39;49m\u001b[43m,\u001b[49m\u001b[43m \u001b[49m\u001b[43mweight\u001b[49m\u001b[43m,\u001b[49m\u001b[43m \u001b[49m\u001b[43mbias\u001b[49m\u001b[43m,\u001b[49m\u001b[43m \u001b[49m\u001b[38;5;28;43mself\u001b[39;49m\u001b[38;5;241;43m.\u001b[39;49m\u001b[43mstride\u001b[49m\u001b[43m,\u001b[49m\n\u001b[1;32m    457\u001b[0m \u001b[43m                \u001b[49m\u001b[38;5;28;43mself\u001b[39;49m\u001b[38;5;241;43m.\u001b[39;49m\u001b[43mpadding\u001b[49m\u001b[43m,\u001b[49m\u001b[43m \u001b[49m\u001b[38;5;28;43mself\u001b[39;49m\u001b[38;5;241;43m.\u001b[39;49m\u001b[43mdilation\u001b[49m\u001b[43m,\u001b[49m\u001b[43m \u001b[49m\u001b[38;5;28;43mself\u001b[39;49m\u001b[38;5;241;43m.\u001b[39;49m\u001b[43mgroups\u001b[49m\u001b[43m)\u001b[49m\n",
      "\u001b[0;31mKeyboardInterrupt\u001b[0m: "
     ]
    }
   ],
   "source": [
    "history2 = fit(100, 0.001, model, train_loader, val_loader)"
   ]
  },
  {
   "cell_type": "code",
   "execution_count": 59,
   "id": "b8edf808",
   "metadata": {},
   "outputs": [
    {
     "name": "stdout",
     "output_type": "stream",
     "text": [
      "Epoch [0], val_loss: 0.5524, val_acc: 0.8211\n",
      "Epoch [1], val_loss: 0.5431, val_acc: 0.8358\n",
      "Epoch [2], val_loss: 0.5241, val_acc: 0.8265\n",
      "Epoch [3], val_loss: 0.5704, val_acc: 0.8128\n",
      "Epoch [4], val_loss: 0.5372, val_acc: 0.8248\n",
      "Epoch [5], val_loss: 0.5274, val_acc: 0.8320\n",
      "Epoch [6], val_loss: 0.5204, val_acc: 0.8358\n",
      "Epoch [7], val_loss: 0.5584, val_acc: 0.8135\n",
      "Epoch [8], val_loss: 0.5756, val_acc: 0.8217\n",
      "Epoch [9], val_loss: 0.5322, val_acc: 0.8289\n",
      "Epoch [10], val_loss: 0.5167, val_acc: 0.8300\n",
      "Epoch [11], val_loss: 0.5262, val_acc: 0.8325\n",
      "Epoch [12], val_loss: 0.5360, val_acc: 0.8236\n",
      "Epoch [13], val_loss: 0.5598, val_acc: 0.8241\n",
      "Epoch [14], val_loss: 0.5486, val_acc: 0.8236\n",
      "Epoch [15], val_loss: 0.5524, val_acc: 0.8219\n",
      "Epoch [16], val_loss: 0.5428, val_acc: 0.8232\n",
      "Epoch [17], val_loss: 0.5510, val_acc: 0.8245\n",
      "Epoch [18], val_loss: 0.5410, val_acc: 0.8273\n",
      "Epoch [19], val_loss: 0.5330, val_acc: 0.8334\n",
      "Epoch [20], val_loss: 0.5482, val_acc: 0.8243\n",
      "Epoch [21], val_loss: 0.5256, val_acc: 0.8296\n",
      "Epoch [22], val_loss: 0.5445, val_acc: 0.8196\n",
      "Epoch [23], val_loss: 0.5137, val_acc: 0.8252\n",
      "Epoch [24], val_loss: 0.5466, val_acc: 0.8272\n",
      "Epoch [25], val_loss: 0.5705, val_acc: 0.8217\n",
      "Epoch [26], val_loss: 0.5794, val_acc: 0.8099\n",
      "Epoch [27], val_loss: 0.5759, val_acc: 0.8241\n",
      "Epoch [28], val_loss: 0.5800, val_acc: 0.8253\n",
      "Epoch [29], val_loss: 0.5697, val_acc: 0.8213\n",
      "Epoch [30], val_loss: 0.5629, val_acc: 0.8248\n",
      "Epoch [31], val_loss: 0.5474, val_acc: 0.8300\n",
      "Epoch [32], val_loss: 0.6022, val_acc: 0.8113\n",
      "Epoch [33], val_loss: 0.5502, val_acc: 0.8300\n",
      "Epoch [34], val_loss: 0.5584, val_acc: 0.8336\n",
      "Epoch [35], val_loss: 0.5733, val_acc: 0.8115\n",
      "Epoch [36], val_loss: 0.5642, val_acc: 0.8260\n",
      "Epoch [37], val_loss: 0.5811, val_acc: 0.8164\n",
      "Epoch [38], val_loss: 0.5578, val_acc: 0.8312\n",
      "Epoch [39], val_loss: 0.5548, val_acc: 0.8320\n",
      "Epoch [40], val_loss: 0.6212, val_acc: 0.8213\n",
      "Epoch [41], val_loss: 0.5720, val_acc: 0.8317\n",
      "Epoch [42], val_loss: 0.5802, val_acc: 0.8253\n",
      "Epoch [43], val_loss: 0.5631, val_acc: 0.8183\n",
      "Epoch [44], val_loss: 0.5801, val_acc: 0.8296\n",
      "Epoch [45], val_loss: 0.5740, val_acc: 0.8232\n",
      "Epoch [46], val_loss: 0.5749, val_acc: 0.8268\n",
      "Epoch [47], val_loss: 0.5892, val_acc: 0.8200\n",
      "Epoch [48], val_loss: 0.5642, val_acc: 0.8292\n",
      "Epoch [49], val_loss: 0.5588, val_acc: 0.8269\n",
      "Epoch [50], val_loss: 0.5392, val_acc: 0.8342\n",
      "Epoch [51], val_loss: 0.5740, val_acc: 0.8289\n",
      "Epoch [52], val_loss: 0.5511, val_acc: 0.8338\n",
      "Epoch [53], val_loss: 0.5468, val_acc: 0.8342\n",
      "Epoch [54], val_loss: 0.5830, val_acc: 0.8237\n",
      "Epoch [55], val_loss: 0.5557, val_acc: 0.8358\n",
      "Epoch [56], val_loss: 0.5934, val_acc: 0.8084\n",
      "Epoch [57], val_loss: 0.5390, val_acc: 0.8309\n",
      "Epoch [58], val_loss: 0.5443, val_acc: 0.8381\n",
      "Epoch [59], val_loss: 0.5808, val_acc: 0.8224\n",
      "Epoch [60], val_loss: 0.5604, val_acc: 0.8316\n",
      "Epoch [61], val_loss: 0.5532, val_acc: 0.8280\n",
      "Epoch [62], val_loss: 0.6136, val_acc: 0.8233\n",
      "Epoch [63], val_loss: 0.6106, val_acc: 0.8245\n",
      "Epoch [64], val_loss: 0.5625, val_acc: 0.8285\n",
      "Epoch [65], val_loss: 0.6044, val_acc: 0.8233\n",
      "Epoch [66], val_loss: 0.5740, val_acc: 0.8265\n",
      "Epoch [67], val_loss: 0.5560, val_acc: 0.8346\n",
      "Epoch [68], val_loss: 0.5594, val_acc: 0.8256\n",
      "Epoch [69], val_loss: 0.6051, val_acc: 0.8180\n",
      "Epoch [70], val_loss: 0.5649, val_acc: 0.8338\n",
      "Epoch [71], val_loss: 0.5853, val_acc: 0.8285\n",
      "Epoch [72], val_loss: 0.6155, val_acc: 0.8188\n",
      "Epoch [73], val_loss: 0.6060, val_acc: 0.8195\n",
      "Epoch [74], val_loss: 0.5657, val_acc: 0.8241\n",
      "Epoch [75], val_loss: 0.5441, val_acc: 0.8426\n",
      "Epoch [76], val_loss: 0.5721, val_acc: 0.8233\n",
      "Epoch [77], val_loss: 0.5854, val_acc: 0.8253\n",
      "Epoch [78], val_loss: 0.5813, val_acc: 0.8276\n",
      "Epoch [79], val_loss: 0.6071, val_acc: 0.8204\n",
      "Epoch [80], val_loss: 0.6009, val_acc: 0.8184\n",
      "Epoch [81], val_loss: 0.5918, val_acc: 0.8191\n",
      "Epoch [82], val_loss: 0.5917, val_acc: 0.8226\n",
      "Epoch [83], val_loss: 0.5820, val_acc: 0.8340\n",
      "Epoch [84], val_loss: 0.5876, val_acc: 0.8280\n",
      "Epoch [85], val_loss: 0.5935, val_acc: 0.8285\n",
      "Epoch [86], val_loss: 0.5676, val_acc: 0.8293\n",
      "Epoch [87], val_loss: 0.6036, val_acc: 0.8253\n",
      "Epoch [88], val_loss: 0.5843, val_acc: 0.8296\n",
      "Epoch [89], val_loss: 0.5950, val_acc: 0.8293\n",
      "Epoch [90], val_loss: 0.6062, val_acc: 0.8315\n",
      "Epoch [91], val_loss: 0.5718, val_acc: 0.8309\n",
      "Epoch [92], val_loss: 0.5786, val_acc: 0.8305\n",
      "Epoch [93], val_loss: 0.6311, val_acc: 0.8176\n",
      "Epoch [94], val_loss: 0.5949, val_acc: 0.8382\n",
      "Epoch [95], val_loss: 0.6177, val_acc: 0.8160\n",
      "Epoch [96], val_loss: 0.5887, val_acc: 0.8323\n",
      "Epoch [97], val_loss: 0.5996, val_acc: 0.8191\n",
      "Epoch [98], val_loss: 0.6197, val_acc: 0.8188\n",
      "Epoch [99], val_loss: 0.6027, val_acc: 0.8237\n"
     ]
    }
   ],
   "source": [
    "history3 = fit(100, 0.001, model, train_loader, val_loader)"
   ]
  },
  {
   "cell_type": "code",
   "execution_count": null,
   "id": "5719562d",
   "metadata": {},
   "outputs": [],
   "source": []
  },
  {
   "cell_type": "code",
   "execution_count": null,
   "id": "113113c1",
   "metadata": {},
   "outputs": [],
   "source": []
  },
  {
   "cell_type": "code",
   "execution_count": 78,
   "id": "deb8c5d2",
   "metadata": {},
   "outputs": [
    {
     "data": {
      "image/png": "[encoded data removed]",
      "text/plain": [
       "<Figure size 640x480 with 1 Axes>"
      ]
     },
     "metadata": {},
     "output_type": "display_data"
    }
   ],
   "source": [
    "## Replace these values with your result\n",
    "history = [result0] + history1# + history2 + history3# + history4\n",
    "accuracies = [result['val_acc'] for result in history]\n",
    "plt.plot(accuracies)\n",
    "plt.xlabel('epoch')\n",
    "plt.ylabel('accuracy')\n",
    "plt.title('Accuracy Vs. No. of epochs')\n",
    "plt.savefig('/home/alex/Documents/NN_path_planning/nn/model/plot_Accuracy Vs. No. of epochs.png')"
   ]
  },
  {
   "cell_type": "code",
   "execution_count": 79,
   "id": "98761a2e",
   "metadata": {},
   "outputs": [],
   "source": [
    "torch.save(model, '/home/alex/Documents/NN_path_planning/nn/model/model_v3.pth')"
   ]
  },
  {
   "cell_type": "code",
   "execution_count": 28,
   "id": "c2a8da4c",
   "metadata": {},
   "outputs": [],
   "source": [
    "model_1 = torch.load('/home/alex/Documents/NN_path_planning/nn/model/model_v3.pth')"
   ]
  },
  {
   "cell_type": "code",
   "execution_count": 35,
   "id": "5173a1f3",
   "metadata": {},
   "outputs": [
    {
     "name": "stderr",
     "output_type": "stream",
     "text": [
      "/tmp/ipykernel_501666/1757807647.py:3: UserWarning: Implicit dimension choice for softmax has been deprecated. Change the call to include dim=X as an argument.\n",
      "  action = F.softmax(output).detach().numpy().argmax()\n"
     ]
    },
    {
     "data": {
      "text/plain": [
       "3"
      ]
     },
     "execution_count": 35,
     "metadata": {},
     "output_type": "execute_result"
    }
   ],
   "source": [
    "output = model_1.forward(custom_dataset[3000][0])\n",
    "# _, pred = torch.max(output)\n",
    "action = F.softmax(output).detach().numpy().argmax()\n",
    "action"
   ]
  },
  {
   "cell_type": "code",
   "execution_count": null,
   "id": "ef8230df",
   "metadata": {},
   "outputs": [],
   "source": []
  },
  {
   "cell_type": "code",
   "execution_count": null,
   "id": "f67286ac",
   "metadata": {},
   "outputs": [],
   "source": []
  },
  {
   "cell_type": "code",
   "execution_count": null,
   "id": "8dc8e2e1",
   "metadata": {},
   "outputs": [],
   "source": []
  }
 ],
 "metadata": {
  "kernelspec": {
   "display_name": "Python 3",
   "language": "python",
   "name": "python3"
  },
  "language_info": {
   "codemirror_mode": {
    "name": "ipython",
    "version": 3
   },
   "file_extension": ".py",
   "mimetype": "text/x-python",
   "name": "python",
   "nbconvert_exporter": "python",
   "pygments_lexer": "ipython3",
   "version": "3.10.12"
  }
 },
 "nbformat": 4,
 "nbformat_minor": 5
}
